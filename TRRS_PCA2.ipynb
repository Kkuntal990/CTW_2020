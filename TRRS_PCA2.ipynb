          "base_uri": "https://localhost:8080/",
          "base_uri": "https://localhost:8080/",
          "height": 106
          "height": 106
        },
        },
        "outputId": "a0a88570-f680-41e0-dfd3-65e3aa044b01"
        "outputId": "c51b751d-badb-4cc6-ad37-a162db3dbd34"
      },
      },
      "source": [
      "source": [
        "import h5py\n",
        "import h5py\n",
@@ -34,7 +34,7 @@
        "pos = f[\"r_Position\"][:].T\n",
        "pos = f[\"r_Position\"][:].T\n",
        "f.close()"
        "f.close()"
      ],
      ],
      "execution_count": 2,
      "execution_count": 1,
      "outputs": [
      "outputs": [
        {
        {
          "output_type": "stream",
          "output_type": "stream",
@@ -60,7 +60,7 @@
        "X_train, X_test, y_train, y_test = train_test_split(H, pos, test_size=0.1, random_state=42)\n",
        "X_train, X_test, y_train, y_test = train_test_split(H, pos, test_size=0.1, random_state=42)\n",
        "del H"
        "del H"
      ],
      ],
      "execution_count": 3,
      "execution_count": 2,
      "outputs": []
      "outputs": []
    },
    },
    {
    {
@@ -73,7 +73,7 @@
      "source": [
      "source": [
        "X_tr, X_fd, y_tr, y_fd = train_test_split(X_train, y_train, test_size=0.1, random_state=54)"
        "X_tr, X_fd, y_tr, y_fd = train_test_split(X_train, y_train, test_size=0.1, random_state=54)"
      ],
      ],
      "execution_count": 4,
      "execution_count": null,
      "outputs": []
      "outputs": []
    },
    },
    {
    {
@@ -85,9 +85,9 @@
      },
      },
      "source": [
      "source": [
        "import numpy as np\n",
        "import numpy as np\n",
        "X_train = np.sqrt(X_train[:,:,:,0]**2 + X_train[:,:,:,1]**2)"
        "X_train2 = np.sqrt(X_train[:,:,:,0]**2 + X_train[:,:,:,1]**2)"
      ],
      ],
      "execution_count": 5,
      "execution_count": 3,
      "outputs": []
      "outputs": []
    },
    },
    {
    {
@@ -101,7 +101,7 @@
        "from pickle import load\n",
        "from pickle import load\n",
        "pca = load(open(\"/content/drive/My Drive/CTW_2019/PCA_Unsupervised.sav\" , \"rb\"))"
        "pca = load(open(\"/content/drive/My Drive/CTW_2019/PCA_Unsupervised.sav\" , \"rb\"))"
      ],
      ],
      "execution_count": 6,
      "execution_count": 4,
      "outputs": []
      "outputs": []
    },
    },
    {
    {
@@ -115,7 +115,7 @@
        "from tensorflow.keras.models import Model,Sequential , load_model\n",
        "from tensorflow.keras.models import Model,Sequential , load_model\n",
        "best = load_model(\"/content/drive/My Drive/CTW_2019/Best_PCA_CNN.h5\")"
        "best = load_model(\"/content/drive/My Drive/CTW_2019/Best_PCA_CNN.h5\")"
      ],
      ],
      "execution_count": 7,
      "execution_count": 5,
      "outputs": []
      "outputs": []
    },
    },
    {
    {
@@ -126,16 +126,15 @@
        "colab": {}
        "colab": {}
      },
      },
      "source": [
      "source": [
        "X_train = X_train.reshape(-1,924)\n",
        "X_train2 = X_train2.reshape(-1,924)\n",
        "from sklearn.decomposition import PCA\n",
        "from sklearn.decomposition import PCA\n",
        "X_train = pca.transform(X_train)\n",
        "X_train2 = pca.transform(X_train2)\n",
        "X_train = X_train.reshape(-1 , 16,66)\n",
        "X_train2 = X_train2.reshape(-1 , 16,66)\n",
        "X_train = X_train.reshape(X_train.shape[0],-1,1)\n",
        "X_train2 = X_train2.reshape(X_train2.shape[0],-1,1)\n",
        "pos_cnn = best.predict(X_train)\n",
        "pos_cnn = best.predict(X_train2)\n",
        "del X_train\n",
        "del X_train2"
        "pos_cnn , _ = train_test_split(pos_cnn, test_size=0.1, random_state=54)"
      ],
      ],
      "execution_count": 8,
      "execution_count": 6,
      "outputs": []
      "outputs": []
    },
    },
    {
    {
@@ -147,24 +146,24 @@
          "base_uri": "https://localhost:8080/",
          "base_uri": "https://localhost:8080/",
          "height": 34
          "height": 34
        },
        },
        "outputId": "01991484-42ae-43bc-a5ff-b465444513d2"
        "outputId": "8253f4f9-519d-4d43-9522-1448569ea583"
      },
      },
      "source": [
      "source": [
        "pos_cnn.shape"
        "pos_cnn.shape"
      ],
      ],
      "execution_count": 9,
      "execution_count": 7,
      "outputs": [
      "outputs": [
        {
        {
          "output_type": "execute_result",
          "output_type": "execute_result",
          "data": {
          "data": {
            "text/plain": [
            "text/plain": [
              "(14163, 3)"
              "(15737, 3)"
            ]
            ]
          },
          },
          "metadata": {
          "metadata": {
            "tags": []
            "tags": []
          },
          },
          "execution_count": 9
          "execution_count": 7
        }
        }
      ]
      ]
    },
    },
@@ -182,18 +181,20 @@
        "    self.CFR_Pos = CFR_Pos\n",
        "    self.CFR_Pos = CFR_Pos\n",
        "    import numpy as np\n",
        "    import numpy as np\n",
        "  \n",
        "  \n",
        "  def get_fingerprint_subset(self , pos , radius = 1):\n",
        "  def get_fingerprint_subset(self , pos ,  k,radius = 1 ):\n",
        "    out = []\n",
        "    out = []\n",
        "    for i in range(len(self.CFR_Pos)):\n",
        "    for i in range(len(self.CFR_Pos)):\n",
        "      if i==k:\n",
        "        continue\n",
        "      if np.sqrt(np.sum((pos-self.CFR_Pos[i])**2)) < radius:\n",
        "      if np.sqrt(np.sum((pos-self.CFR_Pos[i])**2)) < radius:\n",
        "        out.append(i)\n",
        "        out.append(i)\n",
        "    return np.array(out)\n",
        "    return np.array(out)\n",
        "\n",
        "\n",
        "  def predict(self , H2 , Pos2=[] , radius=1):\n",
        "  def predict(self , H2 ,k, Pos2=[] , radius=1):\n",
        "      if len(Pos2)==0:\n",
        "      if len(Pos2)==0:\n",
        "        idx = range(len(self.CFR))\n",
        "        idx = range(len(self.CFR))\n",
        "      else:\n",
        "      else:\n",
        "        idx = self.get_fingerprint_subset(Pos2 , radius)\n",
        "        idx = self.get_fingerprint_subset(Pos2 , k,radius)\n",
        "      H1 = self.CFR[idx]\n",
        "      H1 = self.CFR[idx]\n",
        "      pos = self.CFR_Pos[idx]\n",
        "      pos = self.CFR_Pos[idx]\n",
        "      Yd1 = np.sum((H1*H1)[:,:,:,0] + (H1*H1)[:,:,:,1] , axis=2)\n",
        "      Yd1 = np.sum((H1*H1)[:,:,:,0] + (H1*H1)[:,:,:,1] , axis=2)\n",
@@ -230,7 +231,7 @@
        "\n",
        "\n",
        "  "
        "  "
      ],
      ],
      "execution_count": 16,
      "execution_count": 10,
      "outputs": []
      "outputs": []
    },
    },
    {
    {
@@ -241,9 +242,9 @@
        "colab": {}
        "colab": {}
      },
      },
      "source": [
      "source": [
        "trrs = TRRS(X_fd , y_fd)"
        "trrs = TRRS(X_train , y_train)"
      ],
      ],
      "execution_count": 17,
      "execution_count": 12,
      "outputs": []
      "outputs": []
    },
    },
    {
    {
@@ -257,53 +258,35 @@
        "import numpy as np\n",
        "import numpy as np\n",
        "pos_trrs = np.zeros(pos_cnn.shape)"
        "pos_trrs = np.zeros(pos_cnn.shape)"
      ],
      ],
      "execution_count": 25,
      "execution_count": 13,
      "outputs": []
      "outputs": []
    },
    },
    {
    {
      "cell_type": "code",
      "cell_type": "code",
      "metadata": {
      "metadata": {
        "id": "1uwjyZrUA2nm",
        "id": "1uwjyZrUA2nm",
        "colab_type": "code",
        "colab_type": "code",
        "colab": {
        "colab": {}
          "base_uri": "https://localhost:8080/",
          "height": 376
        },
        "outputId": "5452f101-c45d-45e2-8c88-4cab1bb9b3bd"
      },
      },
      "source": [
      "source": [
        "import time\n",
        "def process_trrs(i):\n",
        "starttime = time.time()\n",
        "for i in range(len(X_tr)):\n",
        "\n",
        "\n",
        "  pos_trrs[i] = trrs.predict(X_tr[i] , pos_cnn[i] , radius = 0.15)\n",
        "    pos_trrs[i] = trrs.predict(X_train[i] , i,pos_cnn[i] , radius = 0.15)\n",
        "  if((i+1)%50==0):\n",
        "    \n",
        "    endtime = time.time()\n",
        "import time\n",
        "    print(\"At i = \" , i+1 , \"Time :\" , endtime-starttime)\n",
        "from multiprocessing import Pool\n",
        "    starttime = time.time()"
        "import os\n",
        "pool = Pool(os.cpu_count())\n",
        "for j in range(0 , len(X_train) , 500):\n",
        "    s = time.time()\n",
        "    a = range(j,min(j+500,len(X_train)))\n",
        "    pool.map(process_trrs, a)\n",
        "    \n",
        "    end = time.time()\n",
        "    print(\"At i = \", a[-1] , \"Time :\", end-s)"
      ],
      ],
      "execution_count": 26,
      "execution_count": null,
      "outputs": [
      "outputs": []
        {
          "output_type": "stream",
          "text": [
            "At i =  50 Time : 1.970038652420044\n"
          ],
          "name": "stdout"
        },
        {
          "output_type": "error",
          "ename": "IndexError",
          "evalue": "ignored",
          "traceback": [
            "\u001b[0;31m---------------------------------------------------------------------------\u001b[0m",
            "\u001b[0;31mIndexError\u001b[0m                                Traceback (most recent call last)",
            "\u001b[0;32m<ipython-input-26-eec1fc9a073d>\u001b[0m in \u001b[0;36m<module>\u001b[0;34m()\u001b[0m\n\u001b[1;32m      3\u001b[0m \u001b[0;32mfor\u001b[0m \u001b[0mi\u001b[0m \u001b[0;32min\u001b[0m \u001b[0mrange\u001b[0m\u001b[0;34m(\u001b[0m\u001b[0mlen\u001b[0m\u001b[0;34m(\u001b[0m\u001b[0mX_tr\u001b[0m\u001b[0;34m)\u001b[0m\u001b[0;34m)\u001b[0m\u001b[0;34m:\u001b[0m\u001b[0;34m\u001b[0m\u001b[0;34m\u001b[0m\u001b[0m\n\u001b[1;32m      4\u001b[0m \u001b[0;34m\u001b[0m\u001b[0m\n\u001b[0;32m----> 5\u001b[0;31m   \u001b[0mpos_trrs\u001b[0m\u001b[0;34m[\u001b[0m\u001b[0mi\u001b[0m\u001b[0;34m]\u001b[0m \u001b[0;34m=\u001b[0m \u001b[0mtrrs\u001b[0m\u001b[0;34m.\u001b[0m\u001b[0mpredict\u001b[0m\u001b[0;34m(\u001b[0m\u001b[0mX_tr\u001b[0m\u001b[0;34m[\u001b[0m\u001b[0mi\u001b[0m\u001b[0;34m]\u001b[0m \u001b[0;34m,\u001b[0m \u001b[0mpos_cnn\u001b[0m\u001b[0;34m[\u001b[0m\u001b[0mi\u001b[0m\u001b[0;34m]\u001b[0m \u001b[0;34m,\u001b[0m \u001b[0mradius\u001b[0m \u001b[0;34m=\u001b[0m \u001b[0;36m0.15\u001b[0m\u001b[0;34m)\u001b[0m\u001b[0;34m\u001b[0m\u001b[0;34m\u001b[0m\u001b[0m\n\u001b[0m\u001b[1;32m      6\u001b[0m   \u001b[0;32mif\u001b[0m\u001b[0;34m(\u001b[0m\u001b[0;34m(\u001b[0m\u001b[0mi\u001b[0m\u001b[0;34m+\u001b[0m\u001b[0;36m1\u001b[0m\u001b[0;34m)\u001b[0m\u001b[0;34m%\u001b[0m\u001b[0;36m50\u001b[0m\u001b[0;34m==\u001b[0m\u001b[0;36m0\u001b[0m\u001b[0;34m)\u001b[0m\u001b[0;34m:\u001b[0m\u001b[0;34m\u001b[0m\u001b[0;34m\u001b[0m\u001b[0m\n\u001b[1;32m      7\u001b[0m     \u001b[0mendtime\u001b[0m \u001b[0;34m=\u001b[0m \u001b[0mtime\u001b[0m\u001b[0;34m.\u001b[0m\u001b[0mtime\u001b[0m\u001b[0;34m(\u001b[0m\u001b[0;34m)\u001b[0m\u001b[0;34m\u001b[0m\u001b[0;34m\u001b[0m\u001b[0m\n",
            "\u001b[0;32m<ipython-input-16-825ffc33ac54>\u001b[0m in \u001b[0;36mpredict\u001b[0;34m(self, H2, Pos2, radius)\u001b[0m\n\u001b[1;32m     17\u001b[0m       \u001b[0;32melse\u001b[0m\u001b[0;34m:\u001b[0m\u001b[0;34m\u001b[0m\u001b[0;34m\u001b[0m\u001b[0m\n\u001b[1;32m     18\u001b[0m         \u001b[0midx\u001b[0m \u001b[0;34m=\u001b[0m \u001b[0mself\u001b[0m\u001b[0;34m.\u001b[0m\u001b[0mget_fingerprint_subset\u001b[0m\u001b[0;34m(\u001b[0m\u001b[0mPos2\u001b[0m \u001b[0;34m,\u001b[0m \u001b[0mradius\u001b[0m\u001b[0;34m)\u001b[0m\u001b[0;34m\u001b[0m\u001b[0;34m\u001b[0m\u001b[0m\n\u001b[0;32m---> 19\u001b[0;31m       \u001b[0mH1\u001b[0m \u001b[0;34m=\u001b[0m \u001b[0mself\u001b[0m\u001b[0;34m.\u001b[0m\u001b[0mCFR\u001b[0m\u001b[0;34m[\u001b[0m\u001b[0midx\u001b[0m\u001b[0;34m]\u001b[0m\u001b[0;34m\u001b[0m\u001b[0;34m\u001b[0m\u001b[0m\n\u001b[0m\u001b[1;32m     20\u001b[0m       \u001b[0mpos\u001b[0m \u001b[0;34m=\u001b[0m \u001b[0mself\u001b[0m\u001b[0;34m.\u001b[0m\u001b[0mCFR_Pos\u001b[0m\u001b[0;34m[\u001b[0m\u001b[0midx\u001b[0m\u001b[0;34m]\u001b[0m\u001b[0;34m\u001b[0m\u001b[0;34m\u001b[0m\u001b[0m\n\u001b[1;32m     21\u001b[0m       \u001b[0mYd1\u001b[0m \u001b[0;34m=\u001b[0m \u001b[0mnp\u001b[0m\u001b[0;34m.\u001b[0m\u001b[0msum\u001b[0m\u001b[0;34m(\u001b[0m\u001b[0;34m(\u001b[0m\u001b[0mH1\u001b[0m\u001b[0;34m*\u001b[0m\u001b[0mH1\u001b[0m\u001b[0;34m)\u001b[0m\u001b[0;34m[\u001b[0m\u001b[0;34m:\u001b[0m\u001b[0;34m,\u001b[0m\u001b[0;34m:\u001b[0m\u001b[0;34m,\u001b[0m\u001b[0;34m:\u001b[0m\u001b[0;34m,\u001b[0m\u001b[0;36m0\u001b[0m\u001b[0;34m]\u001b[0m \u001b[0;34m+\u001b[0m \u001b[0;34m(\u001b[0m\u001b[0mH1\u001b[0m\u001b[0;34m*\u001b[0m\u001b[0mH1\u001b[0m\u001b[0;34m)\u001b[0m\u001b[0;34m[\u001b[0m\u001b[0;34m:\u001b[0m\u001b[0;34m,\u001b[0m\u001b[0;34m:\u001b[0m\u001b[0;34m,\u001b[0m\u001b[0;34m:\u001b[0m\u001b[0;34m,\u001b[0m\u001b[0;36m1\u001b[0m\u001b[0;34m]\u001b[0m \u001b[0;34m,\u001b[0m \u001b[0maxis\u001b[0m\u001b[0;34m=\u001b[0m\u001b[0;36m2\u001b[0m\u001b[0;34m)\u001b[0m\u001b[0;34m\u001b[0m\u001b[0;34m\u001b[0m\u001b[0m\n",
            "\u001b[0;31mIndexError\u001b[0m: arrays used as indices must be of integer (or boolean) type"
          ]
        }
      ]
    }
    }
  ]
  ]
}
