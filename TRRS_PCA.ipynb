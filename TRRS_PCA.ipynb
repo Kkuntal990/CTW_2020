{
  "nbformat": 4,
  "nbformat_minor": 0,
  "metadata": {
    "colab": {
      "name": "TRRS_PCA.ipynb",
      "provenance": [],
      "collapsed_sections": []
    },
    "kernelspec": {
      "name": "python3",
      "display_name": "Python 3"
    },
    "accelerator": "GPU"
  },
  "cells": [
    {
      "cell_type": "code",
      "metadata": {
        "id": "5T6pEEw24Naa",
        "colab_type": "code",
        "colab": {
          "base_uri": "https://localhost:8080/",
          "height": 106
        },
        "outputId": "c51b751d-badb-4cc6-ad37-a162db3dbd34"
      },
      "source": [
        "import h5py\n",
        "f = h5py.File(\"/content/drive/My Drive/CTW_2019/h_Estimated_CTW_Train.h5\")\n",
        "H = f['h_Estimated'][:].T\n",
        "f.close()\n",
        "f = h5py.File(\"/content/drive/My Drive/CTW_2019/r_Position_CTW_Train.h5\")\n",
        "pos = f[\"r_Position\"][:].T\n",
        "f.close()"
      ],
      "execution_count": 1,
      "outputs": [
        {
          "output_type": "stream",
          "text": [
            "/usr/local/lib/python3.6/dist-packages/ipykernel_launcher.py:2: H5pyDeprecationWarning: The default file mode will change to 'r' (read-only) in h5py 3.0. To suppress this warning, pass the mode you need to h5py.File(), or set the global default h5.get_config().default_file_mode, or set the environment variable H5PY_DEFAULT_READONLY=1. Available modes are: 'r', 'r+', 'w', 'w-'/'x', 'a'. See the docs for details.\n",
            "  \n",
            "/usr/local/lib/python3.6/dist-packages/ipykernel_launcher.py:5: H5pyDeprecationWarning: The default file mode will change to 'r' (read-only) in h5py 3.0. To suppress this warning, pass the mode you need to h5py.File(), or set the global default h5.get_config().default_file_mode, or set the environment variable H5PY_DEFAULT_READONLY=1. Available modes are: 'r', 'r+', 'w', 'w-'/'x', 'a'. See the docs for details.\n",
            "  \"\"\"\n"
          ],
          "name": "stderr"
        }
      ]
    },
    {
      "cell_type": "code",
      "metadata": {
        "id": "nnHFVLZz4ab7",
        "colab_type": "code",
        "colab": {}
      },
      "source": [
        "from sklearn.model_selection import train_test_split\n",
        "X_train, X_test, y_train, y_test = train_test_split(H, pos, test_size=0.1, random_state=42)\n",
        "del H"
      ],
      "execution_count": 2,
      "outputs": []
    },
    {
      "cell_type": "code",
      "metadata": {
        "id": "IjBoAu0O4kOs",
        "colab_type": "code",
        "colab": {}
      },
      "source": [
        "X_tr, X_fd, y_tr, y_fd = train_test_split(X_train, y_train, test_size=0.1, random_state=54)"
      ],
      "execution_count": null,
      "outputs": []
    },
    {
      "cell_type": "code",
      "metadata": {
        "id": "5g6aekuy5vVZ",
        "colab_type": "code",
        "colab": {}
      },
      "source": [
        "import numpy as np\n",
        "X_train2 = np.sqrt(X_train[:,:,:,0]**2 + X_train[:,:,:,1]**2)"
      ],
      "execution_count": 3,
      "outputs": []
    },
    {
      "cell_type": "code",
      "metadata": {
        "id": "IdMfBntzi8fT",
        "colab_type": "code",
        "colab": {}
      },
      "source": [
        "from pickle import load\n",
        "pca = load(open(\"/content/drive/My Drive/CTW_2019/PCA_Unsupervised.sav\" , \"rb\"))"
      ],
      "execution_count": 4,
      "outputs": []
    },
    {
      "cell_type": "code",
      "metadata": {
        "id": "9D983LsQ9oqX",
        "colab_type": "code",
        "colab": {}
      },
      "source": [
        "from tensorflow.keras.models import Model,Sequential , load_model\n",
        "best = load_model(\"/content/drive/My Drive/CTW_2019/Best_PCA_CNN.h5\")"
      ],
      "execution_count": 5,
      "outputs": []
    },
    {
      "cell_type": "code",
      "metadata": {
        "id": "0Kei9K04947U",
        "colab_type": "code",
        "colab": {}
      },
      "source": [
        "X_train2 = X_train2.reshape(-1,924)\n",
        "from sklearn.decomposition import PCA\n",
        "X_train2 = pca.transform(X_train2)\n",
        "X_train2 = X_train2.reshape(-1 , 16,66)\n",
        "X_train2 = X_train2.reshape(X_train2.shape[0],-1,1)\n",
        "pos_cnn = best.predict(X_train2)\n",
        "del X_train2"
      ],
      "execution_count": 6,
      "outputs": []
    },
    {
      "cell_type": "code",
      "metadata": {
        "id": "JR4xD6IvAT23",
        "colab_type": "code",
        "colab": {
          "base_uri": "https://localhost:8080/",
          "height": 34
        },
        "outputId": "8253f4f9-519d-4d43-9522-1448569ea583"
      },
      "source": [
        "pos_cnn.shape"
      ],
      "execution_count": 7,
      "outputs": [
        {
          "output_type": "execute_result",
          "data": {
            "text/plain": [
              "(15737, 3)"
            ]
          },
          "metadata": {
            "tags": []
          },
          "execution_count": 7
        }
      ]
    },
    {
      "cell_type": "code",
      "metadata": {
        "id": "4EOVBTA52ScC",
        "colab_type": "code",
        "colab": {}
      },
      "source": [
        "class TRRS:\n",
        "  def __init__(self, CFR , CFR_Pos):\n",
        "    self.CFR = CFR\n",
        "    self.CFR_Pos = CFR_Pos\n",
        "    import numpy as np\n",
        "  \n",
        "  def get_fingerprint_subset(self , pos ,  k,radius = 1 ):\n",
        "    out = []\n",
        "    for i in range(len(self.CFR_Pos)):\n",
        "      if i==k:\n",
        "        continue\n",
        "      if np.sqrt(np.sum((pos-self.CFR_Pos[i])**2)) < radius:\n",
        "        out.append(i)\n",
        "    return np.array(out)\n",
        "\n",
        "  def predict(self , H2 ,k, Pos2=[] , radius=1):\n",
        "      if len(Pos2)==0:\n",
        "        idx = range(len(self.CFR))\n",
        "      else:\n",
        "        idx = self.get_fingerprint_subset(Pos2 , k,radius)\n",
        "      H1 = self.CFR[idx]\n",
        "      pos = self.CFR_Pos[idx]\n",
        "      Yd1 = np.sum((H1*H1)[:,:,:,0] + (H1*H1)[:,:,:,1] , axis=2)\n",
        "      Yd2 = np.sum((H2*H2)[:,:,0] + (H2*H2)[:,:,1] , axis=1)\n",
        "      #print((Yd1*Yd2).shape)\n",
        "\n",
        "      H11 = H1[:,:,:,0] + H1[:,:,:,1] * 1j\n",
        "      H22 = H2[:,:,0] - H2[:,:,1] * 1j\n",
        "      G = H11 * H22\n",
        "      #print(G.shape)\n",
        "      Nser = 1024\n",
        "      Nu = 924\n",
        "      G = np.concatenate((G, np.zeros((H1.shape[0],16,Nser-Nu))), axis=2)\n",
        "      #print(G.shape)\n",
        "\n",
        "      g = np.fft.fftn(G, axes=(2,))\n",
        "      #print(g.shape)\n",
        "\n",
        "      phi_d = np.ndarray.max((np.square(np.abs(g))), axis=2)\n",
        "      phi_d = np.divide(phi_d,(Yd1*Yd2))\n",
        "      #print(phi_d.shape)\n",
        "\n",
        "      w_d = np.sqrt((Yd1 * Yd2))\n",
        "      w_d = np.transpose(w_d)/(np.sqrt(np.sum(Yd1, axis=1)) * np.sum(Yd2))\n",
        "      w_d = np.transpose(w_d)\n",
        "      #print(w_d.shape)\n",
        "      \n",
        "      TRRS = np.sum(np.multiply(w_d,np.sqrt(phi_d)), axis=1)\n",
        "      TRRS = np.square(TRRS)\n",
        "\n",
        "      idx = np.argmax(TRRS)\n",
        "\n",
        "      return pos[idx,:]\n",
        "\n",
        "  "
      ],
      "execution_count": 10,
      "outputs": []
    },
    {
      "cell_type": "code",
      "metadata": {
        "id": "XsPNQoWHAZLY",
        "colab_type": "code",
        "colab": {}
      },
      "source": [
        "trrs = TRRS(X_train , y_train)"
      ],
      "execution_count": 12,
      "outputs": []
    },
    {
      "cell_type": "code",
      "metadata": {
        "id": "oK8bC7AEAtdA",
        "colab_type": "code",
        "colab": {}
      },
      "source": [
        "import numpy as np\n",
        "pos_trrs = np.zeros(pos_cnn.shape)"
      ],
      "execution_count": 13,
      "outputs": []
    },
    {
      "cell_type": "code",
      "metadata": {
        "id": "1uwjyZrUA2nm",
        "colab_type": "code",
        "colab": {}
      },
      "source": [
        "def process_trrs(i):\n",
        "\n",
        "    pos_trrs[i] = trrs.predict(X_train[i] , i,pos_cnn[i] , radius = 0.15)\n",
        "    \n",
        "import time\n",
        "from multiprocessing import Pool\n",
        "import os\n",
        "pool = Pool(os.cpu_count())\n",
        "for j in range(0 , len(X_train) , 500):\n",
        "    s = time.time()\n",
        "    a = range(j,min(j+500,len(X_train)))\n",
        "    pool.map(process_trrs, a)\n",
        "    \n",
        "    end = time.time()\n",
        "    print(\"At i = \", a[-1] , \"Time :\", end-s)"
      ],
      "execution_count": null,
      "outputs": []
    }
  ]
}