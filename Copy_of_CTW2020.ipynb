{
  "nbformat": 4,
  "nbformat_minor": 0,
  "metadata": {
    "colab": {
      "name": "Copy of CTW2020.ipynb",
      "provenance": [],
      "collapsed_sections": [],
      "toc_visible": true,
      "machine_shape": "hm",
      "include_colab_link": true
    },
    "kernelspec": {
      "name": "python3",
      "display_name": "Python 3"
    },
    "accelerator": "GPU"
  },
  "cells": [
    {
      "cell_type": "markdown",
      "metadata": {
        "id": "view-in-github",
        "colab_type": "text"
      },
      "source": [
        "<a href=\"https://colab.research.google.com/github/Kkuntal990/CTW_2020/blob/master/Copy_of_CTW2020.ipynb\" target=\"_parent\"><img src=\"https://colab.research.google.com/assets/colab-badge.svg\" alt=\"Open In Colab\"/></a>"
      ]
    },
    {
      "cell_type": "code",
      "metadata": {
        "id": "v5_VrAvQzC4Y",
        "colab_type": "code",
        "colab": {}
      },
      "source": [
        "#%tensorflow_version 1.x\n",
        "import numpy as np # linear algebra\n",
        "import tensorflow as tf\n",
        "import numpy as np\n",
        "import os\n",
        "import h5py\n",
        "import pandas as pd\n",
        "import time\n",
        "import matplotlib.pyplot as plt\n"
      ],
      "execution_count": 0,
      "outputs": []
    },
    {
      "cell_type": "code",
      "metadata": {
        "id": "mMJ51RI26oyA",
        "colab_type": "code",
        "outputId": "878efc76-2588-43a8-b4b6-114da538f0ca",
        "colab": {
          "base_uri": "https://localhost:8080/",
          "height": 34
        }
      },
      "source": [
        "from keras.models import Sequential, Model, load_model\n",
        "from keras.layers import Dense, LeakyReLU, Input, Conv2D, AveragePooling2D, MaxPooling2D, Dropout, Flatten\n"
      ],
      "execution_count": 0,
      "outputs": [
        {
          "output_type": "stream",
          "text": [
            "Using TensorFlow backend.\n"
          ],
          "name": "stderr"
        }
      ]
    },
    {
      "cell_type": "code",
      "metadata": {
        "id": "0qjIqybShB3v",
        "colab_type": "code",
        "outputId": "b3065fe1-7f07-4ca0-cdd7-f029e2b6f505",
        "colab": {
          "base_uri": "https://localhost:8080/",
          "height": 122
        }
      },
      "source": [
        "from google.colab import drive\n",
        "drive.mount('/content/drive', force_remount=True)"
      ],
      "execution_count": 0,
      "outputs": [
        {
          "output_type": "stream",
          "text": [
            "Go to this URL in a browser: https://accounts.google.com/o/oauth2/auth?client_id=947318989803-6bn6qk8qdgf4n4g3pfee6491hc0brc4i.apps.googleusercontent.com&redirect_uri=urn%3aietf%3awg%3aoauth%3a2.0%3aoob&response_type=code&scope=email%20https%3a%2f%2fwww.googleapis.com%2fauth%2fdocs.test%20https%3a%2f%2fwww.googleapis.com%2fauth%2fdrive%20https%3a%2f%2fwww.googleapis.com%2fauth%2fdrive.photos.readonly%20https%3a%2f%2fwww.googleapis.com%2fauth%2fpeopleapi.readonly\n",
            "\n",
            "Enter your authorization code:\n",
            "··········\n",
            "Mounted at /content/drive\n"
          ],
          "name": "stdout"
        }
      ]
    },
    {
      "cell_type": "code",
      "metadata": {
        "id": "MgUYk18m2n6Y",
        "colab_type": "code",
        "colab": {}
      },
      "source": [
        "import zipfile\n",
        "\n",
        "zip_ref = zipfile.ZipFile(\"/content/drive/My Drive/CTW_2019/CTW2019_Dataset_h5.zip\", 'r')\n",
        "zip_ref.extractall(\"/content/drive/My Drive/CTW_2019/\")\n",
        "zip_ref.close()"
      ],
      "execution_count": 0,
      "outputs": []
    },
    {
      "cell_type": "code",
      "metadata": {
        "id": "glYECAAzzNNF",
        "colab_type": "code",
        "outputId": "b8bd2327-4cad-45a2-be05-99d1f0d98888",
        "colab": {
          "base_uri": "https://localhost:8080/",
          "height": 34
        }
      },
      "source": [
        "def find(SNR):\n",
        "    #H_R.shape = (512,56,924,5)\n",
        "    \n",
        "    #print(temp.shape)\n",
        "    idx  = np.argmax(SNR, axis=1)\n",
        "    return idx\n",
        "    \n",
        "def preprocess(H_Re, idx):\n",
        "    #temp = np.zeros(H_Re.shape[:-1])\n",
        "    for i in range(H_Re.shape[0]):\n",
        "        for j in range(H_Re.shape[1]):\n",
        "            \n",
        "            H_Re[i,j,:,0] = H_Re[i,j,:,idx[i,j]]\n",
        "    return H_Re[:,:,:,0]\n",
        "\n",
        "def preprocess2(H_Re, idx):\n",
        "    temp = np.zeros(H_Re.shape[:-1])\n",
        "    for i in range(H_Re.shape[0]):\n",
        "        for j in range(H_Re.shape[1]):\n",
        "            temp[i,j] = H_Re[i,j,idx[i,j]]\n",
        "    return temp\n",
        "\n",
        "def get_data(data_file):\n",
        "    f = h5py.File(data_file, 'r')\n",
        "    H_Re = f['H_Re'][:] #shape (sample size, 56, 924, 5)\n",
        "    H_Im = f['H_Im'][:] #shape (sample size, 56, 924, 5)\n",
        "    SNR = f['SNR'][:] #shape (sample size, 56, 5)\n",
        "    Pos = f['Pos'][:] #shape(sample size, 3)\n",
        "    f.close()\n",
        "    return H_Re, H_Im, SNR, Pos\n",
        "\n",
        "def get_data2(data_file):\n",
        "    f = h5py.File(data_file, 'r')\n",
        "    H_Re = f['H_Re'][:] #shape (sample size, 56, 924, 5)\n",
        "    H_Im = f['H_Im'][:] #shape (sample size, 56, 924, 5)\n",
        "    SNR = f['SNR'][:] #shape (sample size, 56, 5)\n",
        "    #Pos = f['Pos'][:] #shape(sample size, 3)\n",
        "    f.close()\n",
        "    return H_Re, H_Im, SNR\n",
        "'''\n",
        "def mag(data):x\n",
        "\n",
        "    dim = H.shape[1]\n",
        "    H_re = H[:, :dim/2]\n",
        "    H_Im = H[:, dim/2:]\n",
        "    return np.sqrt(H_re**2 + H_Im**2)\n",
        "'''"
      ],
      "execution_count": 0,
      "outputs": [
        {
          "output_type": "execute_result",
          "data": {
            "text/plain": [
              "'\\ndef mag(data):x\\n\\n    dim = H.shape[1]\\n    H_re = H[:, :dim/2]\\n    H_Im = H[:, dim/2:]\\n    return np.sqrt(H_re**2 + H_Im**2)\\n'"
            ]
          },
          "metadata": {
            "tags": []
          },
          "execution_count": 4
        }
      ]
    },
    {
      "cell_type": "code",
      "metadata": {
        "id": "ALv8-1mzkVlJ",
        "colab_type": "code",
        "colab": {}
      },
      "source": [
        "import h5py\n",
        "\n",
        "def load_labelled(path):\n",
        "    f = h5py.File(path, 'r')\n",
        "    H_Re = f['H_Re'][:] #shape (sample size, 56, 924, 5)\n",
        "    H_Im = f['H_Im'][:] #shape (sample size, 56, 924, 5)\n",
        "    SNR = f['SNR'][:] #shape (sample size, 56, 5)\n",
        "    Pos = f['Pos'][:] #shape(sample size, 3)\n",
        "    f.close()\n",
        "    print(1)\n",
        "    return H_Re, H_Im, SNR, Pos\n",
        "\n",
        "def load_unlabelled(path):\n",
        "    f = h5py.File(path, 'r')\n",
        "    '''\n",
        "    H_Re = f['H_Re'][:] #shape (sample size, 56, 924, 5)\n",
        "    H_Im = f['H_Im'][:] #shape (sample size, 56, 924, 5)\n",
        "    SNR  = f['SNR'][:]  #shape (sample size, 56, 5)\n",
        "    print(SNR.shape)\n",
        "    '''\n",
        "  \n",
        "    print(f.keys())\n",
        "    #H = f['dataset_1'][:]\n",
        "    H = f['r_Position'][:]\n",
        "    f.close()\n",
        "    return H\n",
        "\n",
        "def load_unlabelled2(path):\n",
        "    f = h5py.File(path, 'r')\n",
        "    '''\n",
        "    H_Re = f['H_Re'][:] #shape (sample size, 56, 924, 5)\n",
        "    H_Im = f['H_Im'][:] #shape (sample size, 56, 924, 5)\n",
        "    SNR  = f['SNR'][:]  #shape (sample size, 56, 5)\n",
        "    print(SNR.shape)\n",
        "    '''\n",
        "  \n",
        "    print(f.keys())\n",
        "    H = f['dataset_1'][:]\n",
        "    #H = f['r_Position'][:]\n",
        "    f.close()\n",
        "    return H"
      ],
      "execution_count": 0,
      "outputs": []
    },
    {
      "cell_type": "code",
      "metadata": {
        "id": "vIJETmepqiyw",
        "colab_type": "code",
        "outputId": "9258db93-ca34-41ac-de9b-3d8245a55534",
        "colab": {
          "base_uri": "https://localhost:8080/",
          "height": 34
        }
      },
      "source": [
        "#H_Re , H_Im , SNR , Pos = load_labelled(\"/content/drive/My Drive/CTW2020/CTW2020_labelled_data/file_1.hdf5\")\n",
        "#print(os.listdir(\"/content/drive/My Drive/CTW2020/Processed Data/\"))\n",
        "#os.environ[\"HDF5_USE_FILE_LOCKING\"] = \"FALSE\"\n",
        "#tH_Re , tH_Im , tSNR  = load_unlabelled(\"/content/drive/My Drive/CTW_2019/undata.hdf5\")\n",
        "H = load_unlabelled2('/content/drive/My Drive/CTW_2019/data2019.h5')\n",
        "#H_Re, H_Im, SNR  = np.concatenate((H_Re, tH_Re)), np.concatenate((H_Im, tH_Im)), np.concatenate((SNR, tSNR))\n",
        "#del tSNR"
      ],
      "execution_count": 0,
      "outputs": [
        {
          "output_type": "stream",
          "text": [
            "<KeysViewHDF5 ['dataset_1']>\n"
          ],
          "name": "stdout"
        }
      ]
    },
    {
      "cell_type": "code",
      "metadata": {
        "id": "DDZOXokZoXBk",
        "colab_type": "code",
        "outputId": "09897c02-f400-42d8-d3a7-8e2487abc270",
        "colab": {
          "base_uri": "https://localhost:8080/",
          "height": 299
        }
      },
      "source": [
        "print(H.shape)\n",
        "H1 = np.swapaxes(H,0,2)\n",
        "x = np.linspace(0,65,66)\n",
        "y = H[:,7,8678]\n",
        "y1 = H1[8678, 7, :]\n",
        "plt.plot(x,y)\n",
        "plt.plot(x,y1)\n",
        "print(H1.shape)"
      ],
      "execution_count": 0,
      "outputs": [
        {
          "output_type": "stream",
          "text": [
            "(66, 16, 17486)\n",
            "(17486, 16, 66)\n"
          ],
          "name": "stdout"
        },
        {
          "output_type": "display_data",
          "data": {
            "image/png": "[encoded data removed]",
            "text/plain": [
              "<Figure size 432x288 with 1 Axes>"
            ]
          },
          "metadata": {
            "tags": [],
            "needs_background": "light"
          }
        }
      ]
    },
    {
      "cell_type": "markdown",
      "metadata": {
        "id": "bKTOG84MwJ9N",
        "colab_type": "text"
      },
      "source": [
        ""
      ]
    },
    {
      "cell_type": "code",
      "metadata": {
        "id": "aEDPsuqUv1jK",
        "colab_type": "code",
        "outputId": "3cf4d60f-9bbc-4b5a-be42-24c09ea124c9",
        "colab": {
          "base_uri": "https://localhost:8080/",
          "height": 34
        }
      },
      "source": [
        "Y_pos = load_unlabelled('/content/drive/My Drive/CTW_2019/r_Position_CTW_Train.h5')"
      ],
      "execution_count": 0,
      "outputs": [
        {
          "output_type": "stream",
          "text": [
            "<KeysViewHDF5 ['r_Position']>\n"
          ],
          "name": "stdout"
        }
      ]
    },
    {
      "cell_type": "code",
      "metadata": {
        "id": "IYbnLAY9wM98",
        "colab_type": "code",
        "outputId": "348b47a7-3402-4966-abe5-ffc93d83ee95",
        "colab": {
          "base_uri": "https://localhost:8080/",
          "height": 51
        }
      },
      "source": [
        "print(Y_pos.shape)\n",
        "Y = np.swapaxes(Y_pos, 0,1)\n",
        "print(Y.shape)"
      ],
      "execution_count": 0,
      "outputs": [
        {
          "output_type": "stream",
          "text": [
            "(3, 17486)\n",
            "(17486, 3)\n"
          ],
          "name": "stdout"
        }
      ]
    },
    {
      "cell_type": "code",
      "metadata": {
        "id": "8_-LJGH_3p6M",
        "colab_type": "code",
        "outputId": "57f08141-eb47-4b4c-eddb-dfc716d9afe4",
        "colab": {
          "base_uri": "https://localhost:8080/",
          "height": 51
        }
      },
      "source": [
        "print(H.shape)\n",
        "H_Re = H[0,:,:,:]\n",
        "H_Im = H[1,:,:,:]\n",
        "\n",
        "data2 = np.sqrt(H_Re**2 + H_Im**2)\n",
        "data2 = data2.reshape(17486,16,924)\n",
        "print(data2.shape)\n",
        "del H_Re, H_Im"
      ],
      "execution_count": 0,
      "outputs": [
        {
          "output_type": "stream",
          "text": [
            "(2, 924, 16, 17486)\n",
            "(17486, 16, 924)\n"
          ],
          "name": "stdout"
        }
      ]
    },
    {
      "cell_type": "code",
      "metadata": {
        "id": "7yYAY57Zsxbf",
        "colab_type": "code",
        "outputId": "e59ec8cc-3f0f-4e5b-80aa-cf675a90cc1f",
        "colab": {
          "base_uri": "https://localhost:8080/",
          "height": 34
        }
      },
      "source": [
        "print(tH_Re.shape)\n",
        "del tSNR\n",
        "#del tH_Re, tH_Im, tSNR"
      ],
      "execution_count": 0,
      "outputs": [
        {
          "output_type": "stream",
          "text": [
            "(36192, 56, 924)\n"
          ],
          "name": "stdout"
        }
      ]
    },
    {
      "cell_type": "code",
      "metadata": {
        "id": "iRDs3eImzYvY",
        "colab_type": "code",
        "outputId": "8ea6020e-b43d-4bff-c8ce-cfe7e31b2af0",
        "colab": {
          "base_uri": "https://localhost:8080/",
          "height": 231
        }
      },
      "source": [
        "#CTW_labelled = \"/content/drive/My Drive/CTW2020/CTW2020_Unlabelled/\"\n",
        "#import os\n",
        "#print(os.listdir(\"/content/drive/My Drive/CTW2020/Processed Data\"))\n",
        "from sklearn.linear_model import LinearRegression\n",
        "from sklearn.metrics import mean_squared_error, r2_score\n",
        "from sklearn.preprocessing import PolynomialFeatures\n",
        "#%%\n",
        "x = np.linspace(1,924,924,dtype=fworksloat)\n",
        "\n",
        "y = []\n",
        "\n",
        "for i in range(924):\n",
        "  y.append(data[9,1,i])\n",
        "\n",
        "#data_file = CTW_labelled+\"file_\"+str(1)+\".hdf5\"\n",
        "#H_Re, H_Im, SNR = get_data2(data_file)\n",
        "\n",
        "#print(H_Re[1,1,1,:])\n",
        "\n",
        "#idx = find(tSNR)\n",
        "#del tSNR\n",
        "#tH_Re = preprocess(tH_Re, idx)r\n",
        "#tH_Im = preprocess(tH_Im, idx)\n",
        "#SNR = preprocess2(SNR, idx)\n",
        "#print(SNR.shape)\n",
        "#del idx"
      ],
      "execution_count": 0,
      "outputs": [
        {
          "output_type": "error",
          "ename": "NameError",
          "evalue": "ignored",
          "traceback": [
            "\u001b[0;31m---------------------------------------------------------------------------\u001b[0m",
            "\u001b[0;31mNameError\u001b[0m                                 Traceback (most recent call last)",
            "\u001b[0;32m<ipython-input-8-537760b65fdd>\u001b[0m in \u001b[0;36m<module>\u001b[0;34m()\u001b[0m\n\u001b[1;32m      3\u001b[0m \u001b[0;32mfrom\u001b[0m \u001b[0msklearn\u001b[0m\u001b[0;34m.\u001b[0m\u001b[0mpreprocessing\u001b[0m \u001b[0;32mimport\u001b[0m \u001b[0mPolynomialFeatures\u001b[0m\u001b[0;34m\u001b[0m\u001b[0;34m\u001b[0m\u001b[0m\n\u001b[1;32m      4\u001b[0m \u001b[0;31m#%%\u001b[0m\u001b[0;34m\u001b[0m\u001b[0;34m\u001b[0m\u001b[0;34m\u001b[0m\u001b[0m\n\u001b[0;32m----> 5\u001b[0;31m \u001b[0mx\u001b[0m \u001b[0;34m=\u001b[0m \u001b[0mnp\u001b[0m\u001b[0;34m.\u001b[0m\u001b[0mlinspace\u001b[0m\u001b[0;34m(\u001b[0m\u001b[0;36m1\u001b[0m\u001b[0;34m,\u001b[0m\u001b[0;36m924\u001b[0m\u001b[0;34m,\u001b[0m\u001b[0;36m924\u001b[0m\u001b[0;34m,\u001b[0m\u001b[0mdtype\u001b[0m\u001b[0;34m=\u001b[0m\u001b[0mfworksloat\u001b[0m\u001b[0;34m)\u001b[0m\u001b[0;34m\u001b[0m\u001b[0;34m\u001b[0m\u001b[0m\n\u001b[0m\u001b[1;32m      6\u001b[0m \u001b[0;34m\u001b[0m\u001b[0m\n\u001b[1;32m      7\u001b[0m \u001b[0my\u001b[0m \u001b[0;34m=\u001b[0m \u001b[0;34m[\u001b[0m\u001b[0;34m]\u001b[0m\u001b[0;34m\u001b[0m\u001b[0;34m\u001b[0m\u001b[0m\n",
            "\u001b[0;31mNameError\u001b[0m: name 'fworksloat' is not defined"
          ]
        }
      ]
    },
    {
      "cell_type": "code",
      "metadata": {
        "id": "M-Kt7gGD32f7",
        "colab_type": "code",
        "colab": {}
      },
      "source": [
        "'''\n",
        "\n",
        "for i in range(2,15):\n",
        "    temp = CTW_labelled + \"file_\"+str(i)+\".hdf5\"\n",
        "    tH_Re, tH_Im, tSNR = get_data2(temp)\n",
        "    idx = find(tSNR)\n",
        "    tH_Re = preprocess(tH_Re, idx)\n",
        "    tH_Im = preprocess(tH_Im, idx)\n",
        "    tSNR = preprocess2(tSNR, idx)\n",
        "    H_Re, H_Im, SNR  = np.concatenate((H_Re, tH_Re)), np.concatenate((H_Im, tH_Im)), np.concatenate((SNR, tSNR))\n",
        "\n",
        "del tH_Re,tH_Im,tSNR'''x\n"
      ],
      "execution_count": 0,
      "outputs": []
    },
    {
      "cell_type": "code",
      "metadata": {
        "id": "klAI02iW5MIg",
        "colab_type": "code",
        "outputId": "32b766c1-1739-4bc5-e7ae-8aade75f4a6c",
        "colab": {
          "base_uri": "https://localhost:8080/",
          "height": 34
        }
      },
      "source": [
        "#from sklearn.preprocessing import MinMaxScaler\n",
        "samples = tH_Re.shape[0]\n",
        "#H_Re = tH_Re.reshape((samples,-1))\n",
        "#print(tH_Re.shape)\n",
        "#H_Im = tH_Im.reshape((samples,-1))\n",
        "#SNR = SNR.reshape((samples,-1))\n",
        "#Pos = Pos.reshape((samples,-1))\n",
        "\n",
        "#data = np.sqrt(H_Re**2 + H_Im**2)\n",
        "data2 = np.sqrt(tH_Re**2 + tH_Im**2)\n",
        "del tH_Re , tH_Im\n",
        "print(data2.shape)"
      ],
      "execution_count": 0,
      "outputs": [
        {
          "output_type": "stream",
          "text": [
            "(36192, 56, 924)\n"
          ],
          "name": "stdout"
        }
      ]
    },
    {
      "cell_type": "code",
      "metadata": {
        "id": "Q4xOwa9k5PHn",
        "colab_type": "code",
        "colab": {}
      },
      "source": [
        "from sklearn.linear_model import LinearRegression\n",
        "from sklearn.metrics import mean_squared_error, r2_score\n",
        "from sklearn.preprocessing import PolynomialFeatures\n",
        "#%%\n",
        "dim1 = int(data2.shape[0]/2)\n",
        "#dim1 = 10\n",
        "dim2 = data2.shape[1]\n",
        "new_dim = 66\n",
        "data3 = np.zeros((dim1,dim2, new_dim))\n",
        "\n",
        "#Polynomial fitting code\n",
        "t1 = time.time()\n",
        "R2s = []\n",
        "w = np.linspace(0,1,22)\n",
        "for u in range(dim1):\n",
        "    for v in range(dim2):\n",
        "        \n",
        "        degrees = [4,5,6,7,8]\n",
        "        \n",
        "        batches = [0,242,220,473,451,704,682,924]  #len = 8\n",
        "        final_x = np.linspace(1,924,924)\n",
        "        final_y = np.zeros((924,))\n",
        "        prev = np.zeros([22,])\n",
        "        for i in range(4):\n",
        "            x = np.linspace(batches[i*2],batches[2*i + 1],-batches[i*2]+batches[2*i + 1])\n",
        "           # print()\n",
        "            #print(x.shape)\n",
        "            y = []\n",
        "        \n",
        "            for j in range(batches[i*2],batches[2*i+1]):\n",
        "                y.append(data2[u + dim1,v,j])\n",
        "             \n",
        "            y = np.array(y)\n",
        "            x = x[:, np.newaxis]\n",
        "            y = y[:, np.newaxis]\n",
        "            r2 = np.Infinity\n",
        "            best_deg = 0\n",
        "            for deg in degrees:\n",
        "                polynomial_features= PolynomialFeatures(degree=deg, interaction_only=False)\n",
        "                x_poly = polynomial_features.fit_transform(x)\n",
        "                model = LinearRegression()\n",
        "                model.fit(x_poly, y)\n",
        "                y_poly_pred = model.predict(x_poly)\n",
        "                \n",
        "                rmse = np.sqrt(mean_squared_error(y,y_poly_pred))\n",
        "                #temp = r2_score(y,y_poly_pred)\n",
        "                if rmse < r2:\n",
        "                    best_deg = deg\n",
        "                    r2 = rmse\n",
        "                    final_y[batches[i*2]:batches[2*i+1]] = y_poly_pred.reshape((-1))\n",
        "                    #print(str(r2) + \" Testing \")\n",
        "                    \n",
        "            #print(\"Best found \" + str(r2))\n",
        "            R2s.append(rmse)\n",
        "            \n",
        "            tmp1 = final_y[batches[i*2]:batches[i*2]+22]\n",
        "            if prev.all() != 0:\n",
        "                final_y[batches[i*2]:batches[i*2]+22] = tmp1*w + prev*(1-w)\n",
        "            prev = final_y[batches[i*2 + 1]-22:batches[i*2 + 1]]\n",
        "            \n",
        "        data3[u,v,:] = [final_y[i] for i in range(0,len(final_y), 14)]    \n",
        "    t2 = time.time() \n",
        "    print(str(u) + \"th of \" + str(dim1))\n",
        "    print(\"Time elasped: \" + str((t2-t1)/60) + \" mins.\")    \n",
        "    t2 = time.time() \n",
        "   # print(str(u) + \"th of \" + str(dim1))\n",
        "   # print(\"Time elasped: \" + str((t2-t1)/60) + \" mins.\")\n",
        "#%%\n",
        "t3 = time.time()\n",
        "print(\"DONE\")\n",
        "print(\"Total time: \" + str((t3-t1)/3600) + \" hrs.\")\n",
        "#plt.plot(final_x, final_y)\n",
        "\n",
        "#x1 = np.linspace(1,924,924,dtype=float)\n",
        "\n",
        "#y1 = []\n",
        "'''\n",
        "for i in range(924):\n",
        "  y1.append(data[9,1,i])\n",
        "\n",
        "y1 = np.array(y1)\n",
        "\n",
        "plt.scatter(x1,y1,s=12)\n",
        "\n",
        "'''"
      ],
      "execution_count": 0,
      "outputs": []
    },
    {
      "cell_type": "code",
      "metadata": {
        "id": "H6LeQPPoRFa_",
        "colab_type": "code",
        "colab": {}
      },
      "source": [
        "#Testing if above works or not\n",
        "\n",
        "x1 = np.linspace(1,924,924,dtype=float)\n",
        "x2 = np.linspace(1,924,66,dtype=float)\n",
        "# y1 =\n",
        "\n",
        "# for i in range(924):\n",
        "#   y1.append(data[9,1,i])\n",
        "\n",
        "# y1 = np.array(y1)\n",
        "\n",
        "# plt.scatter(x1,y1,s=12)\n",
        "y1 = data3[41,1,:]\n",
        "#asd\n",
        "plt.plot(x2,y1,'r')\n",
        "plt.scatter(x1, data2[41,1,:],s=12)\n",
        "\n"
      ],
      "execution_count": 0,
      "outputs": []
    },
    {
      "cell_type": "code",
      "metadata": {
        "id": "WZofQxkpWl4e",
        "colab_type": "code",
        "colab": {}
      },
      "source": [
        "hf = h5py.File('/content/drive/My Drive/CTW_2019/data_feat2.h5', 'w')\n",
        "hf.create_dataset('dataset_1', data=data3)\n",
        "hf.close()"
      ],
      "execution_count": 0,
      "outputs": []
    },
    {
      "cell_type": "code",
      "metadata": {
        "id": "a8YKT5PUR7HJ",
        "colab_type": "code",
        "outputId": "da3706c3-3d5b-422a-8a22-8ea30cfffd7a",
        "colab": {
          "base_uri": "https://localhost:8080/",
          "height": 34
        }
      },
      "source": [
        "from sklearn.decomposition import PCA\n",
        "from sklearn.manifold import TSNE\n",
        "\n",
        "pca_50 = PCA(n_components=100)\n",
        "y = pca_50.fit_transform(data)\n",
        "s\n",
        "print('Cumulative explained variation for 50 principal components: {}'.format(np.sum(pca_50.explained_variance_ratio_)))"
      ],
      "execution_count": 0,
      "outputs": [
        {
          "output_type": "stream",
          "text": [
            "Cumulative explained variation for 50 principal components: 0.9999203382894867\n"
          ],
          "name": "stdout"
        }
      ]
    },
    {
      "cell_type": "code",
      "metadata": {
        "id": "qWMhCYm_5QPl",
        "colab_type": "code",
        "colab": {}
      },
      "source": [
        "from keras.callbacks import EarlyStopping, ModelCheckpoint\n",
        "from keras.optimizers import Adadelta, Adam, RMSprop\n",
        "\n",
        "def create_model(input_dim):\n",
        "    inp = Input(shape=(input_dim))\n",
        "    x = Dense(1024, activation='relu')(inp)\n",
        "    #layer3 = Dense(512, activation='relu')(layer2)\n",
        "    x = Dense(1024, activation='relu')(x)\n",
        "    encoded = Dense(512, activation='relu')(x)\n",
        "    x =  Dense(1025, activation='relu')(encoded)\n",
        "    #layer6 = Dense(512, activation='relu')(layer5)\n",
        "    x = Dense(1024, activation='relu')(x)\n",
        "    \n",
        "    decoded = Dense(input_dim, activation='relu')(x)\n",
        "    \n",
        "    \n",
        "    return Model(inp, encoded), Model(inp, decoded)\n",
        "\n",
        "\n",
        "def data_gen(data):\n",
        "    for i in range(len(data)):\n",
        "        yield (data[i:i+1],data[i:i+1])\n",
        "\n",
        "def data_gen2(data, target):\n",
        "    for i in range(len(data)):\n",
        "        yield (data[i:i+1],target[i:i+1])\n",
        "    "
      ],
      "execution_count": 0,
      "outputs": []
    },
    {
      "cell_type": "code",
      "metadata": {
        "id": "0sIZkLCcsjxG",
        "colab_type": "code",
        "outputId": "ea1fcd66-4eb6-4e7d-dbc5-f267a5796bd1",
        "colab": {
          "base_uri": "https://localhost:8080/",
          "height": 68
        }
      },
      "source": [
        "print(H.shape)\n",
        "print(Y_pos.shape)\n",
        "\n",
        "\n",
        "\n",
        "print(data19.shape)"
      ],
      "execution_count": 0,
      "outputs": [
        {
          "output_type": "stream",
          "text": [
            "(66, 16, 17486)\n",
            "(3, 17486)\n",
            "(17486, 16, 66, 1)\n"
          ],
          "name": "stdout"
        }
      ]
    },
    {
      "cell_type": "code",
      "metadata": {
        "id": "LaOEgimtp6wP",
        "colab_type": "code",
        "outputId": "17660c95-f0ec-42be-da10-21e0b52321b3",
        "colab": {
          "base_uri": "https://localhost:8080/",
          "height": 251
        }
      },
      "source": [
        "data19 = np.concatenate((H1, Y_pos[:,:,None]), axis=0)\n",
        "\n",
        "print(data19.shape)"
      ],
      "execution_count": 0,
      "outputs": [
        {
          "output_type": "error",
          "ename": "ValueError",
          "evalue": "ignored",
          "traceback": [
            "\u001b[0;31m---------------------------------------------------------------------------\u001b[0m",
            "\u001b[0;31mValueError\u001b[0m                                Traceback (most recent call last)",
            "\u001b[0;32m<ipython-input-38-b214d8692cfc>\u001b[0m in \u001b[0;36m<module>\u001b[0;34m()\u001b[0m\n\u001b[0;32m----> 1\u001b[0;31m \u001b[0mdata19\u001b[0m \u001b[0;34m=\u001b[0m \u001b[0mnp\u001b[0m\u001b[0;34m.\u001b[0m\u001b[0mconcatenate\u001b[0m\u001b[0;34m(\u001b[0m\u001b[0;34m(\u001b[0m\u001b[0mH1\u001b[0m\u001b[0;34m,\u001b[0m \u001b[0mY_pos\u001b[0m\u001b[0;34m[\u001b[0m\u001b[0;34m:\u001b[0m\u001b[0;34m,\u001b[0m\u001b[0;34m:\u001b[0m\u001b[0;34m,\u001b[0m\u001b[0;32mNone\u001b[0m\u001b[0;34m]\u001b[0m\u001b[0;34m)\u001b[0m\u001b[0;34m,\u001b[0m \u001b[0maxis\u001b[0m\u001b[0;34m=\u001b[0m\u001b[0;36m0\u001b[0m\u001b[0;34m)\u001b[0m\u001b[0;34m\u001b[0m\u001b[0;34m\u001b[0m\u001b[0m\n\u001b[0m\u001b[1;32m      2\u001b[0m \u001b[0;34m\u001b[0m\u001b[0m\n\u001b[1;32m      3\u001b[0m \u001b[0mprint\u001b[0m\u001b[0;34m(\u001b[0m\u001b[0mdata19\u001b[0m\u001b[0;34m.\u001b[0m\u001b[0mshape\u001b[0m\u001b[0;34m)\u001b[0m\u001b[0;34m\u001b[0m\u001b[0;34m\u001b[0m\u001b[0m\n",
            "\u001b[0;32m<__array_function__ internals>\u001b[0m in \u001b[0;36mconcatenate\u001b[0;34m(*args, **kwargs)\u001b[0m\n",
            "\u001b[0;31mValueError\u001b[0m: all the input array dimensions for the concatenation axis must match exactly, but along dimension 1, the array at index 0 has size 16 and the array at index 1 has size 3"
          ]
        }
      ]
    },
    {
      "cell_type": "markdown",
      "metadata": {
        "id": "MVhscfScpt22",
        "colab_type": "text"
      },
      "source": [
        ""
      ]
    },
    {
      "cell_type": "code",
      "metadata": {
        "id": "5KKGuHAEhfx0",
        "colab_type": "code",
        "colab": {}
      },
      "source": [
        "def mlp():\n",
        "  inp = Input(shape=(16,66))\n",
        "  x = Flatten()(inp)\n",
        "  x = Dense(1024,activation = 'relu')(x)\n",
        "  #x = Dense(1024, activation = 'relu')(x)\n",
        "  x = Dropout(0.03)(x)\n",
        "  x = Dense(512, activation = 'relu',kernel_initializer='glorot_uniform',\n",
        "                bias_initializer='zeros')(x)\n",
        "  x = Dropout(0.03)(x)\n",
        "  x = Dense(256, activation = 'relu',kernel_initializer='glorot_uniform',\n",
        "                bias_initializer='zeros')(x)\n",
        "  x = Dropout(0.03)(x)\n",
        "  x = Dense(128, activation = 'relu',kernel_initializer='glorot_uniform',\n",
        "                bias_initializer='zeros')(x)\n",
        "  x = Dropout(0.03)(x)\n",
        "  x = Dense(32, activation = 'relu',kernel_initializer='glorot_uniform',\n",
        "                bias_initializer='ones')(x)\n",
        "  x = Dropout(0.03)(x)\n",
        "  x = Dense(12, activation = 'relu',kernel_initializer='glorot_uniform',\n",
        "                bias_initializer='ones')(x)\n",
        "  x = Dropout(0.03)(x)\n",
        "  op = Dense(3, activation = 'relu',kernel_initializer='glorot_uniform',\n",
        "                bias_initializer='ones')(x)\n",
        "  return Model(inp, op)\n",
        "\n"
      ],
      "execution_count": 0,
      "outputs": []
    },
    {
      "cell_type": "code",
      "metadata": {
        "id": "YqC0tWCXwk64",
        "colab_type": "code",
        "outputId": "a678b0ef-b518-4d84-9174-ada64e5970c6",
        "colab": {
          "base_uri": "https://localhost:8080/",
          "height": 68
        }
      },
      "source": [
        "from sklearn.model_selection import train_test_split\n",
        "traindata,valdata  = train_test_split(H1, test_size=0.1, random_state=54) \n",
        "trainy,valy  = train_test_split(Y, test_size=0.1, random_state=54) \n",
        "print(traindata.shape)\n",
        "steps = len(traindata)\n",
        "print(steps)\n",
        "val_Steps = len(valdata)\n",
        "print(val_Steps)"
      ],
      "execution_count": 0,
      "outputs": [
        {
          "output_type": "stream",
          "text": [
            "(15737, 16, 66)\n",
            "15737\n",
            "1749\n"
          ],
          "name": "stdout"
        }
      ]
    },
    {
      "cell_type": "code",
      "metadata": {
        "id": "j3AbN9AhkV3T",
        "colab_type": "code",
        "outputId": "8b569507-058a-4d0d-e37e-97b96430c796",
        "colab": {
          "base_uri": "https://localhost:8080/",
          "height": 51
        }
      },
      "source": [
        "from sklearn.model_selection import train_test_split\n",
        "X_train,X_test = train_test_split(H1, test_size=0.1, random_state=42, shuffle=True)\n",
        "y_train,y_test = train_test_split(Y, test_size=0.1, random_state=42, shuffle=True)\n",
        "#print(H_new.shape,pos.shape)\n",
        "\n",
        "print(X_train.shape,X_test.shape)\n",
        "print(y_train.shape,y_test.shape)\n"
      ],
      "execution_count": 0,
      "outputs": [
        {
          "output_type": "stream",
          "text": [
            "(15737, 16, 66) (1749, 16, 66)\n",
            "(15737, 3) (1749, 3)\n"
          ],
          "name": "stdout"
        }
      ]
    },
    {
      "cell_type": "code",
      "metadata": {
        "id": "PrSpM2lpmGjo",
        "colab_type": "code",
        "outputId": "00f87ace-a0ad-48f2-f2d6-8af553e92795",
        "colab": {
          "base_uri": "https://localhost:8080/",
          "height": 1000
        }
      },
      "source": [
        "mlp_2019 = mlp()\n",
        "from sklearn.model_selection import KFold\n",
        "opt = RMSprop(learning_rate=0.001, decay=1e-6)\n",
        "mlp_2019.compile(optimizer=opt,loss = 'mean_squared_error')\n",
        "from keras.callbacks import EarlyStopping, ModelCheckpoint\n",
        "early_stopping = EarlyStopping(monitor='val_loss', patience = 20)\n",
        "checkpointer = ModelCheckpoint('/content/drive/My Drive/CTW_2019/CTW2019_mean_sqr2.h5', verbose=1, save_best_only=True)\n",
        "mlp_2019.fit(X_train, y_train, epochs = 150, verbose=1, batch_size = 20, validation_split=0.1, callbacks = [checkpointer, early_stopping])\n",
        "\n",
        "error = []\n",
        "\n",
        "kfold = KFold(10, True, 1)\n",
        "# enumerate splits\n",
        "'''\n",
        "for train, test in kfold.split(H1):\n",
        "  trainy, testy = Y[train], Y[test]\n",
        "  traindata, testdata = H1[train], H1[test]\n",
        "  mlp_2019  = mlp()\n",
        "  mlp_2019.compile(optimizer=Adam(lr=0.0005),loss = 'mean_squared_error', metrics = ['accuracy'])\n",
        "  mlp_2019.fit(traindata, trainy, epochs = 200, batch_size = 20, verbose=1, validation_split=0.1, callbacks = [checkpointer])\n",
        "  error.append(mlp_2019.evaluate(testdata, testy))\n",
        "\n",
        "\n",
        "#mlp_2019.fit_generator(kfoldcv(H1,Y)[0],validation_data = kfoldcv(H1,Y)[1], epochs = 150, steps_per_epoch = len(kfoldcv(H1,Y)[0][0]) ,\n",
        "#                        validation_steps = len(kfoldcv(H1,Y)[1][0]), callbacks=[checkpointer])\n",
        "\n",
        "'''\n"
      ],
      "execution_count": 0,
      "outputs": [
        {
          "output_type": "stream",
          "text": [
            "Train on 14163 samples, validate on 1574 samples\n",
            "Epoch 1/150\n",
            "14163/14163 [==============================] - 4s 282us/step - loss: 0.5747 - val_loss: 0.6830\n",
            "\n",
            "Epoch 00001: val_loss improved from inf to 0.68302, saving model to /content/drive/My Drive/CTW_2019/CTW2019_mean_sqr2.h5\n",
            "Epoch 2/150\n",
            "14163/14163 [==============================] - 4s 258us/step - loss: 0.4406 - val_loss: 0.3704\n",
            "\n",
            "Epoch 00002: val_loss improved from 0.68302 to 0.37037, saving model to /content/drive/My Drive/CTW_2019/CTW2019_mean_sqr2.h5\n",
            "Epoch 3/150\n",
            "14163/14163 [==============================] - 4s 260us/step - loss: 0.3919 - val_loss: 0.5839\n",
            "\n",
            "Epoch 00003: val_loss did not improve from 0.37037\n",
            "Epoch 4/150\n",
            "14163/14163 [==============================] - 4s 265us/step - loss: 0.3625 - val_loss: 0.3409\n",
            "\n",
            "Epoch 00004: val_loss improved from 0.37037 to 0.34093, saving model to /content/drive/My Drive/CTW_2019/CTW2019_mean_sqr2.h5\n",
            "Epoch 5/150\n",
            "14163/14163 [==============================] - 4s 260us/step - loss: 0.3401 - val_loss: 0.4612\n",
            "\n",
            "Epoch 00005: val_loss did not improve from 0.34093\n",
            "Epoch 6/150\n",
            "14163/14163 [==============================] - 4s 262us/step - loss: 0.3224 - val_loss: 0.2827\n",
            "\n",
            "Epoch 00006: val_loss improved from 0.34093 to 0.28270, saving model to /content/drive/My Drive/CTW_2019/CTW2019_mean_sqr2.h5\n",
            "Epoch 7/150\n",
            "14163/14163 [==============================] - 4s 253us/step - loss: 0.3074 - val_loss: 0.2698\n",
            "\n",
            "Epoch 00007: val_loss improved from 0.28270 to 0.26984, saving model to /content/drive/My Drive/CTW_2019/CTW2019_mean_sqr2.h5\n",
            "Epoch 8/150\n",
            "14163/14163 [==============================] - 4s 253us/step - loss: 0.2952 - val_loss: 0.2855\n",
            "\n",
            "Epoch 00008: val_loss did not improve from 0.26984\n",
            "Epoch 9/150\n",
            "14163/14163 [==============================] - 4s 263us/step - loss: 0.2805 - val_loss: 0.2864\n",
            "\n",
            "Epoch 00009: val_loss did not improve from 0.26984\n",
            "Epoch 10/150\n",
            "14163/14163 [==============================] - 4s 254us/step - loss: 0.2742 - val_loss: 0.2920\n",
            "\n",
            "Epoch 00010: val_loss did not improve from 0.26984\n",
            "Epoch 11/150\n",
            "14163/14163 [==============================] - 4s 252us/step - loss: 0.2658 - val_loss: 0.2823\n",
            "\n",
            "Epoch 00011: val_loss did not improve from 0.26984\n",
            "Epoch 12/150\n",
            "14163/14163 [==============================] - 4s 258us/step - loss: 0.2572 - val_loss: 0.2495\n",
            "\n",
            "Epoch 00012: val_loss improved from 0.26984 to 0.24947, saving model to /content/drive/My Drive/CTW_2019/CTW2019_mean_sqr2.h5\n",
            "Epoch 13/150\n",
            "14163/14163 [==============================] - 4s 255us/step - loss: 0.2515 - val_loss: 0.2493\n",
            "\n",
            "Epoch 00013: val_loss improved from 0.24947 to 0.24926, saving model to /content/drive/My Drive/CTW_2019/CTW2019_mean_sqr2.h5\n",
            "Epoch 14/150\n",
            "14163/14163 [==============================] - 4s 255us/step - loss: 0.2426 - val_loss: 0.3275\n",
            "\n",
            "Epoch 00014: val_loss did not improve from 0.24926\n",
            "Epoch 15/150\n",
            "14163/14163 [==============================] - 4s 260us/step - loss: 0.2400 - val_loss: 0.2314\n",
            "\n",
            "Epoch 00015: val_loss improved from 0.24926 to 0.23142, saving model to /content/drive/My Drive/CTW_2019/CTW2019_mean_sqr2.h5\n",
            "Epoch 16/150\n",
            "14163/14163 [==============================] - 4s 255us/step - loss: 0.2338 - val_loss: 0.2372\n",
            "\n",
            "Epoch 00016: val_loss did not improve from 0.23142\n",
            "Epoch 17/150\n",
            "14163/14163 [==============================] - 4s 256us/step - loss: 0.2247 - val_loss: 0.2279\n",
            "\n",
            "Epoch 00017: val_loss improved from 0.23142 to 0.22788, saving model to /content/drive/My Drive/CTW_2019/CTW2019_mean_sqr2.h5\n",
            "Epoch 18/150\n",
            "14163/14163 [==============================] - 4s 257us/step - loss: 0.2204 - val_loss: 0.2543\n",
            "\n",
            "Epoch 00018: val_loss did not improve from 0.22788\n",
            "Epoch 19/150\n",
            "14163/14163 [==============================] - 4s 255us/step - loss: 0.2153 - val_loss: 0.2388\n",
            "\n",
            "Epoch 00019: val_loss did not improve from 0.22788\n",
            "Epoch 20/150\n",
            "14163/14163 [==============================] - 4s 266us/step - loss: 0.2131 - val_loss: 0.2074\n",
            "\n",
            "Epoch 00020: val_loss improved from 0.22788 to 0.20739, saving model to /content/drive/My Drive/CTW_2019/CTW2019_mean_sqr2.h5\n",
            "Epoch 21/150\n",
            "14163/14163 [==============================] - 4s 253us/step - loss: 0.2071 - val_loss: 0.2108\n",
            "\n",
            "Epoch 00021: val_loss did not improve from 0.20739\n",
            "Epoch 22/150\n",
            "14163/14163 [==============================] - 4s 262us/step - loss: 0.2019 - val_loss: 0.2183\n",
            "\n",
            "Epoch 00022: val_loss did not improve from 0.20739\n",
            "Epoch 23/150\n",
            "14163/14163 [==============================] - 4s 255us/step - loss: 0.1995 - val_loss: 0.2087\n",
            "\n",
            "Epoch 00023: val_loss did not improve from 0.20739\n",
            "Epoch 24/150\n",
            "14163/14163 [==============================] - 4s 255us/step - loss: 0.1999 - val_loss: 0.1953\n",
            "\n",
            "Epoch 00024: val_loss improved from 0.20739 to 0.19525, saving model to /content/drive/My Drive/CTW_2019/CTW2019_mean_sqr2.h5\n",
            "Epoch 25/150\n",
            "14163/14163 [==============================] - 4s 254us/step - loss: 0.1933 - val_loss: 0.2149\n",
            "\n",
            "Epoch 00025: val_loss did not improve from 0.19525\n",
            "Epoch 26/150\n",
            "14163/14163 [==============================] - 4s 254us/step - loss: 0.1914 - val_loss: 0.1963\n",
            "\n",
            "Epoch 00026: val_loss did not improve from 0.19525\n",
            "Epoch 27/150\n",
            "14163/14163 [==============================] - 4s 259us/step - loss: 0.1875 - val_loss: 0.1885\n",
            "\n",
            "Epoch 00027: val_loss improved from 0.19525 to 0.18851, saving model to /content/drive/My Drive/CTW_2019/CTW2019_mean_sqr2.h5\n",
            "Epoch 28/150\n",
            "14163/14163 [==============================] - 4s 254us/step - loss: 0.1851 - val_loss: 0.1805\n",
            "\n",
            "Epoch 00028: val_loss improved from 0.18851 to 0.18051, saving model to /content/drive/My Drive/CTW_2019/CTW2019_mean_sqr2.h5\n",
            "Epoch 29/150\n",
            "14163/14163 [==============================] - 4s 254us/step - loss: 0.1831 - val_loss: 0.1825\n",
            "\n",
            "Epoch 00029: val_loss did not improve from 0.18051\n",
            "Epoch 30/150\n",
            "14163/14163 [==============================] - 4s 251us/step - loss: 0.1804 - val_loss: 0.1750\n",
            "\n",
            "Epoch 00030: val_loss improved from 0.18051 to 0.17498, saving model to /content/drive/My Drive/CTW_2019/CTW2019_mean_sqr2.h5\n",
            "Epoch 31/150\n",
            "14163/14163 [==============================] - 4s 260us/step - loss: 0.1786 - val_loss: 0.1870\n",
            "\n",
            "Epoch 00031: val_loss did not improve from 0.17498\n",
            "Epoch 32/150\n",
            "14163/14163 [==============================] - 4s 275us/step - loss: 0.1763 - val_loss: 0.1706\n",
            "\n",
            "Epoch 00032: val_loss improved from 0.17498 to 0.17060, saving model to /content/drive/My Drive/CTW_2019/CTW2019_mean_sqr2.h5\n",
            "Epoch 33/150\n",
            "14163/14163 [==============================] - 4s 282us/step - loss: 0.1758 - val_loss: 0.1877\n",
            "\n",
            "Epoch 00033: val_loss did not improve from 0.17060\n",
            "Epoch 34/150\n",
            "14163/14163 [==============================] - 4s 275us/step - loss: 0.1740 - val_loss: 0.1796\n",
            "\n",
            "Epoch 00034: val_loss did not improve from 0.17060\n",
            "Epoch 35/150\n",
            "14163/14163 [==============================] - 4s 261us/step - loss: 0.1724 - val_loss: 0.1654\n",
            "\n",
            "Epoch 00035: val_loss improved from 0.17060 to 0.16543, saving model to /content/drive/My Drive/CTW_2019/CTW2019_mean_sqr2.h5\n",
            "Epoch 36/150\n",
            "14163/14163 [==============================] - 4s 260us/step - loss: 0.1715 - val_loss: 0.1675\n",
            "\n",
            "Epoch 00036: val_loss did not improve from 0.16543\n",
            "Epoch 37/150\n",
            "14163/14163 [==============================] - 4s 258us/step - loss: 0.1695 - val_loss: 0.1686\n",
            "\n",
            "Epoch 00037: val_loss did not improve from 0.16543\n",
            "Epoch 38/150\n",
            "14163/14163 [==============================] - 4s 261us/step - loss: 0.1681 - val_loss: 0.1728\n",
            "\n",
            "Epoch 00038: val_loss did not improve from 0.16543\n",
            "Epoch 39/150\n",
            "14163/14163 [==============================] - 4s 260us/step - loss: 0.1651 - val_loss: 0.1968\n",
            "\n",
            "Epoch 00039: val_loss did not improve from 0.16543\n",
            "Epoch 40/150\n",
            "14163/14163 [==============================] - 4s 254us/step - loss: 0.1648 - val_loss: 0.1665\n",
            "\n",
            "Epoch 00040: val_loss did not improve from 0.16543\n",
            "Epoch 41/150\n",
            "14163/14163 [==============================] - 3s 247us/step - loss: 0.1642 - val_loss: 0.1589\n",
            "\n",
            "Epoch 00041: val_loss improved from 0.16543 to 0.15890, saving model to /content/drive/My Drive/CTW_2019/CTW2019_mean_sqr2.h5\n",
            "Epoch 42/150\n",
            "14163/14163 [==============================] - 4s 254us/step - loss: 0.1632 - val_loss: 0.1688\n",
            "\n",
            "Epoch 00042: val_loss did not improve from 0.15890\n",
            "Epoch 43/150\n",
            "14163/14163 [==============================] - 4s 261us/step - loss: 0.1607 - val_loss: 0.1753\n",
            "\n",
            "Epoch 00043: val_loss did not improve from 0.15890\n",
            "Epoch 44/150\n",
            "14163/14163 [==============================] - 4s 260us/step - loss: 0.1601 - val_loss: 0.1846\n",
            "\n",
            "Epoch 00044: val_loss did not improve from 0.15890\n",
            "Epoch 45/150\n",
            "14163/14163 [==============================] - 4s 257us/step - loss: 0.1603 - val_loss: 0.1631\n",
            "\n",
            "Epoch 00045: val_loss did not improve from 0.15890\n",
            "Epoch 46/150\n",
            "14163/14163 [==============================] - 4s 253us/step - loss: 0.1601 - val_loss: 0.1597\n",
            "\n",
            "Epoch 00046: val_loss did not improve from 0.15890\n",
            "Epoch 47/150\n",
            "14163/14163 [==============================] - 4s 261us/step - loss: 0.1590 - val_loss: 0.1535\n",
            "\n",
            "Epoch 00047: val_loss improved from 0.15890 to 0.15350, saving model to /content/drive/My Drive/CTW_2019/CTW2019_mean_sqr2.h5\n",
            "Epoch 48/150\n",
            "14163/14163 [==============================] - 3s 247us/step - loss: 0.1585 - val_loss: 0.1700\n",
            "\n",
            "Epoch 00048: val_loss did not improve from 0.15350\n",
            "Epoch 49/150\n",
            "14163/14163 [==============================] - 4s 265us/step - loss: 0.1572 - val_loss: 0.1576\n",
            "\n",
            "Epoch 00049: val_loss did not improve from 0.15350\n",
            "Epoch 50/150\n",
            "14163/14163 [==============================] - 4s 258us/step - loss: 0.1567 - val_loss: 0.1577\n",
            "\n",
            "Epoch 00050: val_loss did not improve from 0.15350\n",
            "Epoch 51/150\n",
            "14163/14163 [==============================] - 4s 251us/step - loss: 0.1561 - val_loss: 0.1559\n",
            "\n",
            "Epoch 00051: val_loss did not improve from 0.15350\n",
            "Epoch 52/150\n",
            "14163/14163 [==============================] - 4s 264us/step - loss: 0.1555 - val_loss: 0.1678\n",
            "\n",
            "Epoch 00052: val_loss did not improve from 0.15350\n",
            "Epoch 53/150\n",
            "14163/14163 [==============================] - 4s 262us/step - loss: 0.1552 - val_loss: 0.1570\n",
            "\n",
            "Epoch 00053: val_loss did not improve from 0.15350\n",
            "Epoch 54/150\n",
            "14163/14163 [==============================] - 4s 262us/step - loss: 0.1539 - val_loss: 0.1541\n",
            "\n",
            "Epoch 00054: val_loss did not improve from 0.15350\n",
            "Epoch 55/150\n",
            "14163/14163 [==============================] - 4s 260us/step - loss: 0.1525 - val_loss: 0.1550\n",
            "\n",
            "Epoch 00055: val_loss did not improve from 0.15350\n",
            "Epoch 56/150\n",
            "14163/14163 [==============================] - 4s 268us/step - loss: 0.1533 - val_loss: 0.1688\n",
            "\n",
            "Epoch 00056: val_loss did not improve from 0.15350\n",
            "Epoch 57/150\n",
            "14163/14163 [==============================] - 4s 268us/step - loss: 0.1530 - val_loss: 0.1575\n",
            "\n",
            "Epoch 00057: val_loss did not improve from 0.15350\n",
            "Epoch 58/150\n",
            "14163/14163 [==============================] - 4s 256us/step - loss: 0.1527 - val_loss: 0.1567\n",
            "\n",
            "Epoch 00058: val_loss did not improve from 0.15350\n",
            "Epoch 59/150\n",
            "14163/14163 [==============================] - 4s 256us/step - loss: 0.1507 - val_loss: 0.1568\n",
            "\n",
            "Epoch 00059: val_loss did not improve from 0.15350\n",
            "Epoch 60/150\n",
            "14163/14163 [==============================] - 4s 265us/step - loss: 0.1510 - val_loss: 0.1531\n",
            "\n",
            "Epoch 00060: val_loss improved from 0.15350 to 0.15308, saving model to /content/drive/My Drive/CTW_2019/CTW2019_mean_sqr2.h5\n",
            "Epoch 61/150\n",
            "14163/14163 [==============================] - 4s 255us/step - loss: 0.1504 - val_loss: 0.1566\n",
            "\n",
            "Epoch 00061: val_loss did not improve from 0.15308\n",
            "Epoch 62/150\n",
            "14163/14163 [==============================] - 4s 253us/step - loss: 0.1492 - val_loss: 0.1514\n",
            "\n",
            "Epoch 00062: val_loss improved from 0.15308 to 0.15145, saving model to /content/drive/My Drive/CTW_2019/CTW2019_mean_sqr2.h5\n",
            "Epoch 63/150\n",
            "14163/14163 [==============================] - 4s 258us/step - loss: 0.1492 - val_loss: 0.1541\n",
            "\n",
            "Epoch 00063: val_loss did not improve from 0.15145\n",
            "Epoch 64/150\n",
            "14163/14163 [==============================] - 4s 257us/step - loss: 0.1487 - val_loss: 0.1578\n",
            "\n",
            "Epoch 00064: val_loss did not improve from 0.15145\n",
            "Epoch 65/150\n",
            "14163/14163 [==============================] - 4s 252us/step - loss: 0.1488 - val_loss: 0.1518\n",
            "\n",
            "Epoch 00065: val_loss did not improve from 0.15145\n",
            "Epoch 66/150\n",
            "14163/14163 [==============================] - 4s 255us/step - loss: 0.1482 - val_loss: 0.1498\n",
            "\n",
            "Epoch 00066: val_loss improved from 0.15145 to 0.14979, saving model to /content/drive/My Drive/CTW_2019/CTW2019_mean_sqr2.h5\n",
            "Epoch 67/150\n",
            "14163/14163 [==============================] - 4s 253us/step - loss: 0.1474 - val_loss: 0.1590\n",
            "\n",
            "Epoch 00067: val_loss did not improve from 0.14979\n",
            "Epoch 68/150\n",
            "14163/14163 [==============================] - 4s 262us/step - loss: 0.1489 - val_loss: 0.1503\n",
            "\n",
            "Epoch 00068: val_loss did not improve from 0.14979\n",
            "Epoch 69/150\n",
            "14163/14163 [==============================] - 4s 259us/step - loss: 0.1479 - val_loss: 0.1443\n",
            "\n",
            "Epoch 00069: val_loss improved from 0.14979 to 0.14429, saving model to /content/drive/My Drive/CTW_2019/CTW2019_mean_sqr2.h5\n",
            "Epoch 70/150\n",
            "14163/14163 [==============================] - 4s 259us/step - loss: 0.1466 - val_loss: 0.1537\n",
            "\n",
            "Epoch 00070: val_loss did not improve from 0.14429\n",
            "Epoch 71/150\n",
            "14163/14163 [==============================] - 4s 257us/step - loss: 0.1460 - val_loss: 0.1512\n",
            "\n",
            "Epoch 00071: val_loss did not improve from 0.14429\n",
            "Epoch 72/150\n",
            "14163/14163 [==============================] - 4s 250us/step - loss: 0.1468 - val_loss: 0.1453\n",
            "\n",
            "Epoch 00072: val_loss did not improve from 0.14429\n",
            "Epoch 73/150\n",
            "14163/14163 [==============================] - 4s 257us/step - loss: 0.1471 - val_loss: 0.1481\n",
            "\n",
            "Epoch 00073: val_loss did not improve from 0.14429\n",
            "Epoch 74/150\n",
            "14163/14163 [==============================] - 4s 257us/step - loss: 0.1463 - val_loss: 0.1508\n",
            "\n",
            "Epoch 00074: val_loss did not improve from 0.14429\n",
            "Epoch 75/150\n",
            "14163/14163 [==============================] - 4s 259us/step - loss: 0.1463 - val_loss: 0.1483\n",
            "\n",
            "Epoch 00075: val_loss did not improve from 0.14429\n",
            "Epoch 76/150\n",
            "14163/14163 [==============================] - 4s 251us/step - loss: 0.1458 - val_loss: 0.1482\n",
            "\n",
            "Epoch 00076: val_loss did not improve from 0.14429\n",
            "Epoch 77/150\n",
            "14163/14163 [==============================] - 4s 260us/step - loss: 0.1460 - val_loss: 0.1683\n",
            "\n",
            "Epoch 00077: val_loss did not improve from 0.14429\n",
            "Epoch 78/150\n",
            "14163/14163 [==============================] - 4s 252us/step - loss: 0.1447 - val_loss: 0.1478\n",
            "\n",
            "Epoch 00078: val_loss did not improve from 0.14429\n",
            "Epoch 79/150\n",
            "14163/14163 [==============================] - 4s 260us/step - loss: 0.1451 - val_loss: 0.1498\n",
            "\n",
            "Epoch 00079: val_loss did not improve from 0.14429\n",
            "Epoch 80/150\n",
            "14163/14163 [==============================] - 4s 256us/step - loss: 0.1450 - val_loss: 0.1489\n",
            "\n",
            "Epoch 00080: val_loss did not improve from 0.14429\n",
            "Epoch 81/150\n",
            "14163/14163 [==============================] - 4s 260us/step - loss: 0.1442 - val_loss: 0.1456\n",
            "\n",
            "Epoch 00081: val_loss did not improve from 0.14429\n",
            "Epoch 82/150\n",
            "14163/14163 [==============================] - 4s 261us/step - loss: 0.1440 - val_loss: 0.1440\n",
            "\n",
            "Epoch 00082: val_loss improved from 0.14429 to 0.14397, saving model to /content/drive/My Drive/CTW_2019/CTW2019_mean_sqr2.h5\n",
            "Epoch 83/150\n",
            "14163/14163 [==============================] - 4s 260us/step - loss: 0.1446 - val_loss: 0.1404\n",
            "\n",
            "Epoch 00083: val_loss improved from 0.14397 to 0.14036, saving model to /content/drive/My Drive/CTW_2019/CTW2019_mean_sqr2.h5\n",
            "Epoch 84/150\n",
            "14163/14163 [==============================] - 4s 258us/step - loss: 0.1444 - val_loss: 0.1444\n",
            "\n",
            "Epoch 00084: val_loss did not improve from 0.14036\n",
            "Epoch 85/150\n",
            "14163/14163 [==============================] - 4s 260us/step - loss: 0.1440 - val_loss: 0.1504\n",
            "\n",
            "Epoch 00085: val_loss did not improve from 0.14036\n",
            "Epoch 86/150\n",
            "14163/14163 [==============================] - 4s 253us/step - loss: 0.1435 - val_loss: 0.1495\n",
            "\n",
            "Epoch 00086: val_loss did not improve from 0.14036\n",
            "Epoch 87/150\n",
            "14163/14163 [==============================] - 4s 260us/step - loss: 0.1440 - val_loss: 0.1454\n",
            "\n",
            "Epoch 00087: val_loss did not improve from 0.14036\n",
            "Epoch 88/150\n",
            "14163/14163 [==============================] - 4s 256us/step - loss: 0.1440 - val_loss: 0.1445\n",
            "\n",
            "Epoch 00088: val_loss did not improve from 0.14036\n",
            "Epoch 89/150\n",
            "14163/14163 [==============================] - 4s 261us/step - loss: 0.1440 - val_loss: 0.1556\n",
            "\n",
            "Epoch 00089: val_loss did not improve from 0.14036\n",
            "Epoch 90/150\n",
            "14163/14163 [==============================] - 4s 260us/step - loss: 0.1417 - val_loss: 0.1513\n",
            "\n",
            "Epoch 00090: val_loss did not improve from 0.14036\n",
            "Epoch 91/150\n",
            "14163/14163 [==============================] - 4s 256us/step - loss: 0.1436 - val_loss: 0.1448\n",
            "\n",
            "Epoch 00091: val_loss did not improve from 0.14036\n",
            "Epoch 92/150\n",
            "14163/14163 [==============================] - 4s 254us/step - loss: 0.1423 - val_loss: 0.1429\n",
            "\n",
            "Epoch 00092: val_loss did not improve from 0.14036\n",
            "Epoch 93/150\n",
            "14163/14163 [==============================] - 4s 259us/step - loss: 0.1431 - val_loss: 0.1468\n",
            "\n",
            "Epoch 00093: val_loss did not improve from 0.14036\n",
            "Epoch 94/150\n",
            "14163/14163 [==============================] - 4s 248us/step - loss: 0.1436 - val_loss: 0.1425\n",
            "\n",
            "Epoch 00094: val_loss did not improve from 0.14036\n",
            "Epoch 95/150\n",
            "14163/14163 [==============================] - 4s 254us/step - loss: 0.1426 - val_loss: 0.1436\n",
            "\n",
            "Epoch 00095: val_loss did not improve from 0.14036\n",
            "Epoch 96/150\n",
            "14163/14163 [==============================] - 4s 264us/step - loss: 0.1426 - val_loss: 0.1441\n",
            "\n",
            "Epoch 00096: val_loss did not improve from 0.14036\n",
            "Epoch 97/150\n",
            "14163/14163 [==============================] - 4s 261us/step - loss: 0.1419 - val_loss: 0.1449\n",
            "\n",
            "Epoch 00097: val_loss did not improve from 0.14036\n",
            "Epoch 98/150\n",
            "14163/14163 [==============================] - 4s 262us/step - loss: 0.1422 - val_loss: 0.1433\n",
            "\n",
            "Epoch 00098: val_loss did not improve from 0.14036\n",
            "Epoch 99/150\n",
            "14163/14163 [==============================] - 4s 260us/step - loss: 0.1423 - val_loss: 0.1457\n",
            "\n",
            "Epoch 00099: val_loss did not improve from 0.14036\n",
            "Epoch 100/150\n",
            "14163/14163 [==============================] - 4s 254us/step - loss: 0.1420 - val_loss: 0.1404\n",
            "\n",
            "Epoch 00100: val_loss did not improve from 0.14036\n",
            "Epoch 101/150\n",
            "14163/14163 [==============================] - 4s 251us/step - loss: 0.1416 - val_loss: 0.1444\n",
            "\n",
            "Epoch 00101: val_loss did not improve from 0.14036\n",
            "Epoch 102/150\n",
            "14163/14163 [==============================] - 4s 248us/step - loss: 0.1422 - val_loss: 0.1410\n",
            "\n",
            "Epoch 00102: val_loss did not improve from 0.14036\n",
            "Epoch 103/150\n",
            "14163/14163 [==============================] - 4s 257us/step - loss: 0.1417 - val_loss: 0.1520\n",
            "\n",
            "Epoch 00103: val_loss did not improve from 0.14036\n"
          ],
          "name": "stdout"
        },
        {
          "output_type": "execute_result",
          "data": {
            "text/plain": [
              "\"\\nfor train, test in kfold.split(H1):\\n  trainy, testy = Y[train], Y[test]\\n  traindata, testdata = H1[train], H1[test]\\n  mlp_2019  = mlp()\\n  mlp_2019.compile(optimizer=Adam(lr=0.0005),loss = 'mean_squared_error', metrics = ['accuracy'])\\n  mlp_2019.fit(traindata, trainy, epochs = 200, batch_size = 20, verbose=1, validation_split=0.1, callbacks = [checkpointer])\\n  error.append(mlp_2019.evaluate(testdata, testy))\\n\\n\\n#mlp_2019.fit_generator(kfoldcv(H1,Y)[0],validation_data = kfoldcv(H1,Y)[1], epochs = 150, steps_per_epoch = len(kfoldcv(H1,Y)[0][0]) ,\\n#                        validation_steps = len(kfoldcv(H1,Y)[1][0]), callbacks=[checkpointer])\\n\\n\""
            ]
          },
          "metadata": {
            "tags": []
          },
          "execution_count": 26
        }
      ]
    },
    {
      "cell_type": "code",
      "metadata": {
        "id": "w1a9K_HOi1th",
        "colab_type": "code",
        "colab": {}
      },
      "source": [
        "def rmse(p1, p2):\n",
        "  return np.sqrt(np.sum((p1-p2)**2, axis = 1))\n"
      ],
      "execution_count": 0,
      "outputs": []
    },
    {
      "cell_type": "code",
      "metadata": {
        "id": "89vN141bjB7l",
        "colab_type": "code",
        "outputId": "39caa774-b363-4791-fb19-635e832655df",
        "colab": {
          "base_uri": "https://localhost:8080/",
          "height": 85
        }
      },
      "source": [
        "m2  = load_model(\"/content/drive/My Drive/CTW_2019/CTW2019_mean_sqr2.h5\")\n",
        "l = 140\n",
        "r = 150\n",
        "pred = m2.predict(X_test)\n",
        "org = y_test\n",
        "print(pred[:,:-1].shape)\n",
        "print(org[:,:-1].shape)\n",
        "print(np.mean(rmse(pred, org)))\n",
        "print(np.mean(rmse(pred[:,:-1], org[:,:-1])))"
      ],
      "execution_count": 0,
      "outputs": [
        {
          "output_type": "stream",
          "text": [
            "(1749, 2)\n",
            "(1749, 2)\n",
            "0.6284134370585278\n",
            "0.274711075025098\n"
          ],
          "name": "stdout"
        }
      ]
    },
    {
      "cell_type": "code",
      "metadata": {
        "id": "Zp1SNKEkjB4b",
        "colab_type": "code",
        "colab": {}
      },
      "source": [
        ""
      ],
      "execution_count": 0,
      "outputs": []
    },
    {
      "cell_type": "code",
      "metadata": {
        "id": "Isu3Gf2tQo4X",
        "colab_type": "code",
        "colab": {}
      },
      "source": [
        "error = np.array(error)\n",
        "np.savetxt('/content/drive/My Drive/CTW_2019/test.out', x, delimiter=',')"
      ],
      "execution_count": 0,
      "outputs": []
    },
    {
      "cell_type": "code",
      "metadata": {
        "id": "JTiHa5K6SlZG",
        "colab_type": "code",
        "colab": {}
      },
      "source": [
        "for i in range(Y.shape[0]):\n",
        "  if abs(Y[i,2]) > 1:\n",
        "    print(i) \n",
        "  else:\n",
        "    print(0)"
      ],
      "execution_count": 0,
      "outputs": []
    },
    {
      "cell_type": "code",
      "metadata": {
        "id": "6Qy27Tqdv-6E",
        "colab_type": "code",
        "colab": {}
      },
      "source": [
        "def conv_ae(input_dim):\n",
        "  #Edit this\n",
        "  inp = Input(shape=(input_dim)) #56x77\n",
        "  x = Conv2D(4,(3,3),strides=(1,1),padding='same',,activation='relu')(inp)\n",
        "  x = MaxPooling2D((2, 2), padding='same')(x)    #28x39x4\n",
        "  x = Conv2D(8,(3,3),strides=(1,1),padding='same',activation='relu')(x)\n",
        "  x = MaxPooling2D((2, 2), padding='same')(x) #14x20x8\n",
        "  x = Conv2D(16,(3,2),strides=(1,1),padding='same',activation='relu')(x)\n",
        "  encoded = MaxPooling2D((3, 3), padding='same')(x) #5x7x16\n",
        "  x = Conv2D(16,(3,2),strides=(1,1),padding='same',activation='relu')(encoded)\n",
        "  x = UpSampling2D((3, 3))(x)\n",
        "  x = Conv2D(8,(3,3),strides=(1,1),padding='same',activation='relu')(x)\n",
        "  x = UpSampling2D((2, 2))(x)\n",
        "  x = Conv2D(4,(3,3),strides=(1,1),padding='same', activation='relu')(inp)\n",
        "  x = UpSampling2D((2, 2))(x)\n",
        "  decoded = Conv2D(1, (3, 3), activation='sigmoid', padding='same')(x)\n",
        "  return Model(inp, decoded), Model(inp, encoded)"
      ],
      "execution_count": 0,
      "outputs": []
    },
    {
      "cell_type": "code",
      "metadata": {
        "id": "ENWEUTJ8yYhJ",
        "colab_type": "code",
        "colab": {}
      },
      "source": [
        "def conv_classifier(input_dim);\n",
        "  inp = Input(shape=(input_dim))\n",
        "  op = Dense(3,activation='sigmoid')(x)\n",
        "  return Model(inp, op)"
      ],
      "execution_count": 0,
      "outputs": []
    },
    {
      "cell_type": "code",
      "metadata": {
        "id": "U6cSZ5bQ5lM_",
        "colab_type": "code",
        "outputId": "577d3372-31ca-490e-ef7f-7139cc2b3775",
        "colab": {
          "base_uri": "https://localhost:8080/",
          "height": 68
        }
      },
      "source": [
        "from sklearn.model_selection import train_test_split\n",
        "y,y_v  = train_test_split(y, test_size=0.3, random_state=54) \n",
        "print(y.shape)\n",
        "steps = len(y)\n",
        "print(steps)\n",
        "val_Steps = len(y_v)\n",
        "print(val_Steps)"
      ],
      "execution_count": 0,
      "outputs": [
        {
          "output_type": "stream",
          "text": [
            "(5398, 5000)\n",
            "5398\n",
            "2314\n"
          ],
          "name": "stdout"
        }
      ]
    },
    {
      "cell_type": "code",
      "metadata": {
        "id": "hQv2IiT85o8O",
        "colab_type": "code",
        "colab": {}
      },
      "source": [
        "encoder, autoencoder = create_model(inp_dim)\n",
        "from keras.callbacks import EarlyStopping, ModelCheckpoint\n",
        "earlystopper = EarlyStopping(patience = 10, verbose=1)\n",
        "checkpointer = ModelCheckpoint('Best.h5', verbose=1, save_best_only=True)\n",
        "for i in range(200):\n",
        "    autoencoder.fit_generator(data_gen(y),validation_data = data_gen(y_v), epochs = 1, steps_per_epoch = steps ,\n",
        "                        validation_steps = len(y_v), callbacks=[earlystopper, checkpointer])\n",
        "model.save('mymodel2.h5')"
      ],
      "execution_count": 0,
      "outputs": []
    },
    {
      "cell_type": "code",
      "metadata": {
        "id": "sckNT8GJTzSA",
        "colab_type": "code",
        "colab": {}
      },
      "source": [
        "#CLassifier\n",
        "\n",
        "def cls(inp):\n",
        "  inp = Input(shape=(inp,))\n",
        "  x = Dense(512, activation='relu')(inp)\n",
        "  x = Dropout(0.4)(x)\n",
        "  x = Dense(512, activation='softmax')(x)\n",
        "  return Model(inp, x)\n",
        "\n",
        "\n"
      ],
      "execution_count": 0,
      "outputs": []
    }
  ]
}