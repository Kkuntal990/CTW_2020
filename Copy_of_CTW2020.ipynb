{
  "nbformat": 4,
  "nbformat_minor": 0,
  "metadata": {
    "colab": {
      "name": "Copy of CTW2020.ipynb",
      "provenance": [],
      "collapsed_sections": [],
      "toc_visible": true,
      "machine_shape": "hm",
      "include_colab_link": true
    },
    "kernelspec": {
      "name": "python3",
      "display_name": "Python 3"
    },
    "accelerator": "GPU"
  },
  "cells": [
    {
      "cell_type": "markdown",
      "metadata": {
        "id": "view-in-github",
        "colab_type": "text"
      },
      "source": [
        "<a href=\"https://colab.research.google.com/github/Kkuntal990/CTW_2020/blob/master/Copy_of_CTW2020.ipynb\" target=\"_parent\"><img src=\"https://colab.research.google.com/assets/colab-badge.svg\" alt=\"Open In Colab\"/></a>"
      ]
    },
    {
      "cell_type": "code",
      "metadata": {
        "id": "v5_VrAvQzC4Y",
        "colab_type": "code",
        "outputId": "f9009fd9-441f-4e46-de18-851340c4530b",
        "colab": {
          "base_uri": "https://localhost:8080/",
          "height": 80
        }
      },
      "source": [
        "import numpy as np # linear algebra\n",
        "from keras.models import Sequential, Model, load_model\n",
        "from keras.layers import Dense, LeakyReLU, Input\n",
        "import numpy as np\n",
        "import os\n",
        "import h5py\n",
        "import pandas as pd\n",
        "import time\n",
        "import matplotlib.pyplot as plt\n"
      ],
      "execution_count": 0,
      "outputs": [
        {
          "output_type": "stream",
          "text": [
            "Using TensorFlow backend.\n"
          ],
          "name": "stderr"
        },
        {
          "output_type": "display_data",
          "data": {
            "text/html": [
              "<p style=\"color: red;\">\n",
              "The default version of TensorFlow in Colab will soon switch to TensorFlow 2.x.<br>\n",
              "We recommend you <a href=\"https://www.tensorflow.org/guide/migrate\" target=\"_blank\">upgrade</a> now \n",
              "or ensure your notebook will continue to use TensorFlow 1.x via the <code>%tensorflow_version 1.x</code> magic:\n",
              "<a href=\"https://colab.research.google.com/notebooks/tensorflow_version.ipynb\" target=\"_blank\">more info</a>.</p>\n"
            ],
            "text/plain": [
              "<IPython.core.display.HTML object>"
            ]
          },
          "metadata": {
            "tags": []
          }
        }
      ]
    },
    {
      "cell_type": "code",
      "metadata": {
        "id": "0qjIqybShB3v",
        "colab_type": "code",
        "outputId": "9cd39fbd-f668-4e87-9901-9ff6ce8a9b5f",
        "colab": {
          "base_uri": "https://localhost:8080/",
          "height": 34
        }
      },
      "source": [
        "from google.colab import drive\n",
        "drive.mount('/content/drive')"
      ],
      "execution_count": 0,
      "outputs": [
        {
          "output_type": "stream",
          "text": [
            "Drive already mounted at /content/drive; to attempt to forcibly remount, call drive.mount(\"/content/drive\", force_remount=True).\n"
          ],
          "name": "stdout"
        }
      ]
    },
    {
      "cell_type": "code",
      "metadata": {
        "id": "MgUYk18m2n6Y",
        "colab_type": "code",
        "colab": {}
      },
      "source": [
        "#import zipfile\n",
        "\n",
        "#zip_ref = zipfile.ZipFile(\"/content/drive/My Drive/CTW2020/CTW2020.zip\", 'r')\n",
        "#zip_ref.extractall(\"/content/\")\n",
        "#zip_ref.close()"
      ],
      "execution_count": 0,
      "outputs": []
    },
    {
      "cell_type": "code",
      "metadata": {
        "id": "glYECAAzzNNF",
        "colab_type": "code",
        "outputId": "9fb77303-039d-4f21-ce3c-9d18b923d991",
        "colab": {
          "base_uri": "https://localhost:8080/",
          "height": 34
        }
      },
      "source": [
        "def find(SNR):\n",
        "    #H_R.shape = (512,56,924,5)\n",
        "    \n",
        "    #print(temp.shape)\n",
        "    idx  = np.argmax(SNR, axis=1)\n",
        "    return idx\n",
        "    \n",
        "def preprocess(H_Re, idx):\n",
        "    #temp = np.zeros(H_Re.shape[:-1])\n",
        "    for i in range(H_Re.shape[0]):\n",
        "        for j in range(H_Re.shape[1]):\n",
        "            \n",
        "            H_Re[i,j,:,0] = H_Re[i,j,:,idx[i,j]]\n",
        "    return H_Re[:,:,:,0]\n",
        "\n",
        "def preprocess2(H_Re, idx):\n",
        "    temp = np.zeros(H_Re.shape[:-1])\n",
        "    for i in range(H_Re.shape[0]):\n",
        "        for j in range(H_Re.shape[1]):\n",
        "            temp[i,j] = H_Re[i,j,idx[i,j]]\n",
        "    return temp\n",
        "\n",
        "def get_data(data_file):\n",
        "    f = h5py.File(data_file, 'r')\n",
        "    H_Re = f['H_Re'][:] #shape (sample size, 56, 924, 5)\n",
        "    H_Im = f['H_Im'][:] #shape (sample size, 56, 924, 5)\n",
        "    SNR = f['SNR'][:] #shape (sample size, 56, 5)\n",
        "    Pos = f['Pos'][:] #shape(sample size, 3)\n",
        "    f.close()\n",
        "    return H_Re, H_Im, SNR, Pos\n",
        "\n",
        "def get_data2(data_file):\n",
        "    f = h5py.File(data_file, 'r')\n",
        "    H_Re = f['H_Re'][:] #shape (sample size, 56, 924, 5)\n",
        "    H_Im = f['H_Im'][:] #shape (sample size, 56, 924, 5)\n",
        "    SNR = f['SNR'][:] #shape (sample size, 56, 5)\n",
        "    #Pos = f['Pos'][:] #shape(sample size, 3)\n",
        "    f.close()\n",
        "    return H_Re, H_Im, SNR\n",
        "'''\n",
        "def mag(data):x\n",
        "\n",
        "    dim = H.shape[1]\n",
        "    H_re = H[:, :dim/2]\n",
        "    H_Im = H[:, dim/2:]\n",
        "    return np.sqrt(H_re**2 + H_Im**2)\n",
        "'''"
      ],
      "execution_count": 0,
      "outputs": [
        {
          "output_type": "execute_result",
          "data": {
            "text/plain": [
              "'\\ndef mag(data):x\\n\\n    dim = H.shape[1]\\n    H_re = H[:, :dim/2]\\n    H_Im = H[:, dim/2:]\\n    return np.sqrt(H_re**2 + H_Im**2)\\n'"
            ]
          },
          "metadata": {
            "tags": []
          },
          "execution_count": 2
        }
      ]
    },
    {
      "cell_type": "code",
      "metadata": {
        "id": "ALv8-1mzkVlJ",
        "colab_type": "code",
        "colab": {}
      },
      "source": [
        "import h5py\n",
        "\n",
        "def load_labelled(path):\n",
        "    f = h5py.File(path, 'r')\n",
        "    H_Re = f['H_Re'][:] #shape (sample size, 56, 924, 5)\n",
        "    H_Im = f['H_Im'][:] #shape (sample size, 56, 924, 5)\n",
        "    SNR = f['SNR'][:] #shape (sample size, 56, 5)\n",
        "    Pos = f['Pos'][:] #shape(sample size, 3)\n",
        "    f.close()\n",
        "    print(1)\n",
        "    return H_Re, H_Im, SNR, Pos\n",
        "\n",
        "def load_unlabelled(path):\n",
        "    f = h5py.File(path, 'r')\n",
        "    H_Re = f['H_Re'][:] #shape (sample size, 56, 924, 5)\n",
        "    H_Im = f['H_Im'][:] #shape (sample size, 56, 924, 5)\n",
        "    SNR  = f['SNR'][:]  #shape (sample size, 56, 5)\n",
        "    print(SNR.shape)\n",
        "    f.close()\n",
        "    return H_Re, H_Im, SNR"
      ],
      "execution_count": 0,
      "outputs": []
    },
    {
      "cell_type": "code",
      "metadata": {
        "id": "vIJETmepqiyw",
        "colab_type": "code",
        "outputId": "2ab09def-eb92-4532-af33-afc206aa33a9",
        "colab": {
          "base_uri": "https://localhost:8080/",
          "height": 34
        }
      },
      "source": [
        "H_Re , H_Im , SNR , Pos = load_labelled(\"/content/drive/My Drive/CTW2020/CTW2020_labelled_data/file_1.hdf5\")\n",
        "#tH_Re , tH_Im , tSNR  = load_unlabelled(\"/content/drive/My Drive/CTW2020/Processed Data/Unlabelled.hdf5\")\n",
        "#H_Re, H_Im, SNR  = np.concatenate((H_Re, tH_Re)), np.concatenate((H_Im, tH_Im)), np.concatenate((SNR, tSNR))\n",
        "#del tSNR"
      ],
      "execution_count": 0,
      "outputs": [
        {
          "output_type": "stream",
          "text": [
            "1\n"
          ],
          "name": "stdout"
        }
      ]
    },
    {
      "cell_type": "code",
      "metadata": {
        "id": "7yYAY57Zsxbf",
        "colab_type": "code",
        "outputId": "a4032e7f-23a0-46c1-f3a3-92059a2ce1cc",
        "colab": {
          "base_uri": "https://localhost:8080/",
          "height": 34
        }
      },
      "source": [
        "print(tH_Re.shape)\n",
        "#del tH_Re, tH_Im, tSNR"
      ],
      "execution_count": 0,
      "outputs": [
        {
          "output_type": "stream",
          "text": [
            "(36192, 56, 924)\n"
          ],
          "name": "stdout"
        }
      ]
    },
    {
      "cell_type": "code",
      "metadata": {
        "id": "iRDs3eImzYvY",
        "colab_type": "code",
        "colab": {}
      },
      "source": [
        "#CTW_labelled = \"/content/drive/My Drive/CTW2020/CTW2020_Unlabelled/\"\n",
        "#import os\n",
        "#print(os.listdir(\"/content/drive/My Drive/CTW2020/Processed Data\"))\n",
        "from sklearn.linear_model import LinearRegression\n",
        "from sklearn.metrics import mean_squared_error, r2_score\n",
        "from sklearn.preprocessing import PolynomialFeatures\n",
        "#%%\n",
        "x = np.linspace(1,924,924,dtype=float)\n",
        "\n",
        "y = []\n",
        "\n",
        "for i in range(924):\n",
        "  y.append(data[9,1,i])\n",
        "\n",
        "#data_file = CTW_labelled+\"file_\"+str(1)+\".hdf5\"\n",
        "#H_Re, H_Im, SNR = get_data2(data_file)\n",
        "\n",
        "#print(H_Re[1,1,1,:])\n",
        "\n",
        "#idx = find(tSNR)\n",
        "#del tSNR\n",
        "#tH_Re = preprocess(tH_Re, idx)\n",
        "#tH_Im = preprocess(tH_Im, idx)\n",
        "#SNR = preprocess2(SNR, idx)\n",
        "#print(SNR.shape)\n",
        "#del idx"
      ],
      "execution_count": 0,
      "outputs": []
    },
    {
      "cell_type": "code",
      "metadata": {
        "id": "M-Kt7gGD32f7",
        "colab_type": "code",
        "colab": {}
      },
      "source": [
        "'''\n",
        "\n",
        "for i in range(2,15):\n",
        "    temp = CTW_labelled + \"file_\"+str(i)+\".hdf5\"\n",
        "    tH_Re, tH_Im, tSNR = get_data2(temp)\n",
        "    idx = find(tSNR)\n",
        "    tH_Re = preprocess(tH_Re, idx)\n",
        "    tH_Im = preprocess(tH_Im, idx)\n",
        "    tSNR = preprocess2(tSNR, idx)\n",
        "    H_Re, H_Im, SNR  = np.concatenate((H_Re, tH_Re)), np.concatenate((H_Im, tH_Im)), np.concatenate((SNR, tSNR))\n",
        "\n",
        "del tH_Re,tH_Im,tSNR'''x\n"
      ],
      "execution_count": 0,
      "outputs": []
    },
    {
      "cell_type": "code",
      "metadata": {
        "id": "klAI02iW5MIg",
        "colab_type": "code",
        "outputId": "08a05390-e679-44be-a2e9-0ccea0ca5eaf",
        "colab": {
          "base_uri": "https://localhost:8080/",
          "height": 34
        }
      },
      "source": [
        "from sklearn.preprocessing import MinMaxScaler\n",
        "#samples = tH_Re.shape[0]\n",
        "#H_Re = tH_Re.reshape((samples,-1))\n",
        "#print(tH_Re.shape)\n",
        "#H_Im = tH_Im.reshape((samples,-1))\n",
        "#SNR = SNR.reshape((samples,-1))\n",
        "#Pos = Pos.reshape((samples,-1))\n",
        "\n",
        "data = np.sqrt(H_Re**2 + H_Im**2)\n",
        "#data2 = np.sqrt(tH_Re**2 + tH_Im**2)\n",
        "#del tH_Re , tH_Im , H_Re, H_Im\n",
        "print(data.shape)"
      ],
      "execution_count": 0,
      "outputs": [
        {
          "output_type": "stream",
          "text": [
            "(512, 56, 924, 5)\n"
          ],
          "name": "stdout"
        }
      ]
    },
    {
      "cell_type": "code",
      "metadata": {
        "id": "Q4xOwa9k5PHn",
        "colab_type": "code",
        "outputId": "6e9c5470-7ca1-41e3-e8ba-0eddea6f58de",
        "colab": {
          "base_uri": "https://localhost:8080/",
          "height": 299
        }
      },
      "source": [
        "from sklearn.linear_model import LinearRegression\n",
        "from sklearn.metrics import mean_squared_error, r2_score\n",
        "from sklearn.preprocessing import PolynomialFeatures\n",
        "#%%\n",
        "dim1 = data2.shape[0]\n",
        "dim2 = data2.shape[1]\n",
        "new_dim = 77\n",
        "data3 = np.zeros((dim1,dim2, new_dim))\n",
        "\n",
        "#Polynomial fitting code\n",
        "for u in range(dim1):\n",
        "    for v in range(dim2):\n",
        "        \n",
        "        degrees = [4,5,6,7,8]\n",
        "        \n",
        "        batches = [0,242,220,473,451,704,682,924]  #len = 8\n",
        "        final_x = np.linspace(1,924,924)\n",
        "        final_y = np.zeros((924,))\n",
        "        for i in range(4):\n",
        "            x = np.linspace(batches[i*2],batches[2*i + 1],-batches[i*2]+batches[2*i + 1])\n",
        "           # print()\n",
        "            #print(x.shape)\n",
        "            y = []\n",
        "        \n",
        "            for j in range(batches[i*2],batches[2*i+1]):\n",
        "                y.append(data[9,1,j])\n",
        "             \n",
        "            y = np.array(y)\n",
        "            x = x[:, np.newaxis]\n",
        "            y = y[:, np.newaxis]\n",
        "            r2 = 0\n",
        "            best_deg = 0\n",
        "            for deg in degrees:\n",
        "                polynomial_features= PolynomialFeatures(degree=deg, interaction_only=False)\n",
        "                x_poly = polynomial_features.fit_transform(x)\n",
        "                model = LinearRegression()\n",
        "                model.fit(x_poly, y)\n",
        "                y_poly_pred = model.predict(x_poly)\n",
        "                \n",
        "                rmse = np.sqrt(mean_squared_error(y,y_poly_pred))\n",
        "                temp = r2_score(y,y_poly_pred)\n",
        "                if temp > r2:\n",
        "                    best_deg = deg\n",
        "                    final_y[batches[i*2]:batches[2*i+1]] = y_poly_pred.reshape((-1))\n",
        "                    \n",
        "        data3[u,v,:] = [final_y[i] for i in range(0,len(final_y), 12)]  \n",
        "\n",
        "#%%\n",
        "\n",
        "plt.plot(final_x, final_y)\n",
        "\n",
        "x1 = np.linspace(1,924,924,dtype=float)\n",
        "\n",
        "y1 = []\n",
        "\n",
        "for i in range(924):\n",
        "  y1.append(data[9,1,i])\n",
        "\n",
        "y1 = np.array(y1)\n",
        "\n",
        "plt.scatter(x1,y1,s=12)\n",
        "\n"
      ],
      "execution_count": 0,
      "outputs": [
        {
          "output_type": "stream",
          "text": [
            "(512, 56, 924, 5)\n"
          ],
          "name": "stdout"
        },
        {
          "output_type": "execute_result",
          "data": {
            "text/plain": [
              "<matplotlib.collections.PathCollection at 0x7f23f20429e8>"
            ]
          },
          "metadata": {
            "tags": []
          },
          "execution_count": 28
        },
        {
          "output_type": "display_data",
          "data": {
            "image/png": "[encoded data removed]",
            "text/plain": [
              "<Figure size 432x288 with 1 Axes>"
            ]
          },
          "metadata": {
            "tags": []
          }
        }
      ]
    },
    {
      "cell_type": "code",
      "metadata": {
        "id": "a8YKT5PUR7HJ",
        "colab_type": "code",
        "outputId": "da3706c3-3d5b-422a-8a22-8ea30cfffd7a",
        "colab": {
          "base_uri": "https://localhost:8080/",
          "height": 34
        }
      },
      "source": [
        "from sklearn.decomposition import PCA\n",
        "from sklearn.manifold import TSNE\n",
        "\n",
        "pca_50 = PCA(n_components=5000)\n",
        "y = pca_50.fit_transform(data)\n",
        "print('Cumulative explained variation for 50 principal components: {}'.format(np.sum(pca_50.explained_variance_ratio_)))"
      ],
      "execution_count": 0,
      "outputs": [
        {
          "output_type": "stream",
          "text": [
            "Cumulative explained variation for 50 principal components: 0.9999203382894867\n"
          ],
          "name": "stdout"
        }
      ]
    },
    {
      "cell_type": "code",
      "metadata": {
        "id": "qWMhCYm_5QPl",
        "colab_type": "code",
        "colab": {}
      },
      "source": [
        "from keras.callbacks import EarlyStopping, ModelCheckpoint\n",
        "from keras.optimizers import Adadelta\n",
        "\n",
        "def create_model(input_dim):\n",
        "    inp = Input(shape=(input_dim))\n",
        "    layer2 = Dense(1024, activation='relu')(inp)\n",
        "    #layer3 = Dense(512, activation='relu')(layer2)\n",
        "    layer4 = Dense(256, activation='relu')(layer3)\n",
        "    encoded = Dense(64, activation='relu')(layer4)\n",
        "    layer5 =  Dense(256, activation='relu')(encoded)\n",
        "    #layer6 = Dense(512, activation='relu')(layer5)\n",
        "    layer7 = Dense(1024, activation='relu')(layer6)\n",
        "    decoded = Dense(input_dim, activation='relu')(layer7)\n",
        "\n",
        "    return Model(inp, encoded), Model(inp, decoded)\n",
        "\n",
        "def data_gen(data):\n",
        "    for i in range(len(data)):\n",
        "        yield (data[i:i+1],data[i:i+1])\n",
        "    "
      ],
      "execution_count": 0,
      "outputs": []
    },
    {
      "cell_type": "code",
      "metadata": {
        "id": "U6cSZ5bQ5lM_",
        "colab_type": "code",
        "outputId": "577d3372-31ca-490e-ef7f-7139cc2b3775",
        "colab": {
          "base_uri": "https://localhost:8080/",
          "height": 68
        }
      },
      "source": [
        "from sklearn.model_selection import train_test_split\n",
        "y,y_v  = train_test_split(y, test_size=0.3, random_state=54) \n",
        "print(y.shape)\n",
        "steps = len(y)\n",
        "print(steps)\n",
        "val_Steps = len(y_v)\n",
        "print(val_Steps)"
      ],
      "execution_count": 0,
      "outputs": [
        {
          "output_type": "stream",
          "text": [
            "(5398, 5000)\n",
            "5398\n",
            "2314\n"
          ],
          "name": "stdout"
        }
      ]
    },
    {
      "cell_type": "code",
      "metadata": {
        "id": "hQv2IiT85o8O",
        "colab_type": "code",
        "colab": {}
      },
      "source": [
        "encoder, autoencoder = create_model(inp_dim)\n",
        "from keras.callbacks import EarlyStopping, ModelCheckpoint\n",
        "earlystopper = EarlyStopping(patience = 10, verbose=1)\n",
        "checkpointer = ModelCheckpoint('Best.h5', verbose=1, save_best_only=True)\n",
        "for i in range(200):\n",
        "    autoencoder.fit_generator(data_gen(y),validation_data = data_gen(y_v), epochs = 1, steps_per_epoch = steps ,\n",
        "                        validation_steps = len(y_v), callbacks=[earlystopper, checkpointer])\n",
        "model.save('mymodel2.h5')"
      ],
      "execution_count": 0,
      "outputs": []
    },
    {
      "cell_type": "code",
      "metadata": {
        "id": "sckNT8GJTzSA",
        "colab_type": "code",
        "colab": {}
      },
      "source": [
        "#CLassifier\n",
        "\n",
        "def cls(inp):\n",
        "  inp = Input(shape=(inp,))\n",
        "  x = Dense(512, activation='relu')(inp)\n",
        "  x = Dropout(0.4)(x)\n",
        "  x = Dense(512, activation='softmax')(x)\n",
        "  return Model(inp, x)\n",
        "\n",
        "\n"
      ],
      "execution_count": 0,
      "outputs": []
    },
    {
      "cell_type": "code",
      "metadata": {
        "id": "pGWVniBB0o_E",
        "colab_type": "code",
        "colab": {}
      },
      "source": [
        ""
      ],
      "execution_count": 0,
      "outputs": []
    }
  ]
}