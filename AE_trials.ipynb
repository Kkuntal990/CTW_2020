{
  "nbformat": 4,
  "nbformat_minor": 0,
  "metadata": {
    "colab": {
      "name": "AE_trials.ipynb",
      "provenance": [],
      "authorship_tag": "ABX9TyNGEQjkTCZnECaLNSbwXkiR",
      "include_colab_link": true
    },
    "kernelspec": {
      "name": "python3",
      "display_name": "Python 3"
    },
    "accelerator": "GPU"
  },
  "cells": [
    {
      "cell_type": "markdown",
      "metadata": {
        "id": "view-in-github",
        "colab_type": "text"
      },
      "source": [
        "<a href=\"https://colab.research.google.com/github/Kkuntal990/CTW_2020/blob/master/AE_trials.ipynb\" target=\"_parent\"><img src=\"https://colab.research.google.com/assets/colab-badge.svg\" alt=\"Open In Colab\"/></a>"
      ]
    },
    {
      "cell_type": "code",
      "metadata": {
        "id": "COUxoxU29QT1",
        "colab_type": "code",
        "colab": {}
      },
      "source": [
        "import numpy as np # linear algebra\n",
        "import tensorflow as tf\n",
        "import numpy as np\n",
        "import os\n",
        "import h5py\n",
        "import pandas as pd\n",
        "import time\n",
        "import matplotlib.pyplot as plt\n"
      ],
      "execution_count": 0,
      "outputs": []
    },
    {
      "cell_type": "code",
      "metadata": {
        "id": "RHdDHtsr9YWL",
        "colab_type": "code",
        "outputId": "49b9b915-677e-48d4-be4f-a90b486612bb",
        "colab": {
          "base_uri": "https://localhost:8080/",
          "height": 34
        }
      },
      "source": [
        "from keras.models import Sequential, Model, load_model\n",
        "from keras.layers import Dense, LeakyReLU, Input, Conv2D, AveragePooling2D, MaxPooling2D, Dropout, Flatten\n",
        "from keras.regularizers import l1,l2"
      ],
      "execution_count": 2,
      "outputs": [
        {
          "output_type": "stream",
          "text": [
            "Using TensorFlow backend.\n"
          ],
          "name": "stderr"
        }
      ]
    },
    {
      "cell_type": "code",
      "metadata": {
        "id": "eQN4C8Bx9bfK",
        "colab_type": "code",
        "outputId": "101ec6ca-0f55-4458-b723-1cf5c7f083a4",
        "colab": {
          "base_uri": "https://localhost:8080/",
          "height": 34
        }
      },
      "source": [
        "from google.colab import drive\n",
        "drive.mount('/content/drive', force_remount=True)"
      ],
      "execution_count": 3,
      "outputs": [
        {
          "output_type": "stream",
          "text": [
            "Mounted at /content/drive\n"
          ],
          "name": "stdout"
        }
      ]
    },
    {
      "cell_type": "code",
      "metadata": {
        "id": "YE4oY7zQ9b5W",
        "colab_type": "code",
        "colab": {}
      },
      "source": [
        "\n",
        "def load_unlabelled2(path):\n",
        "    f = h5py.File(path, 'r')\n",
        "    '''\n",
        "    H_Re = f['H_Re'][:] #shape (sample size, 56, 924, 5)\n",
        "    H_Im = f['H_Im'][:] #shape (sample size, 56, 924, 5)\n",
        "    SNR  = f['SNR'][:]  #shape (sample size, 56, 5)\n",
        "    print(SNR.shape)\n",
        "    '''\n",
        "  \n",
        "    print(f.keys())\n",
        "    H = f['h_Estimated'][:]\n",
        "    f.close()\n",
        "    return H\n",
        "\n",
        "\n",
        "def load_unlabelled3(path):\n",
        "    f = h5py.File(path, 'r')\n",
        "    '''\n",
        "    H_Re = f['H_Re'][:] #shape (sample size, 56, 924, 5)\n",
        "    H_Im = f['H_Im'][:] #shape (sample size, 56, 924, 5)\n",
        "    SNR  = f['SNR'][:]  #shape (sample size, 56, 5)\n",
        "    print(SNR.shape)\n",
        "    '''\n",
        "  \n",
        "    print(f.keys())\n",
        "    H = f['r_Position'][:]\n",
        "    f.close()\n",
        "    return H\n",
        "\n",
        "\n",
        "def load_unlabelled(path):\n",
        "    f = h5py.File(path, 'r')\n",
        "    '''\n",
        "    H_Re = f['H_Re'][:] #shape (sample size, 56, 924, 5)\n",
        "    H_Im = f['H_Im'][:] #shape (sample size, 56, 924, 5)\n",
        "    SNR  = f['SNR'][:]  #shape (sample size, 56, 5)\n",
        "    print(SNR.shape)\n",
        "    '''\n",
        "  \n",
        "    print(f.keys())\n",
        "    H = f['SNR_Est'][:]\n",
        "    f.close()\n",
        "    return H"
      ],
      "execution_count": 0,
      "outputs": []
    },
    {
      "cell_type": "code",
      "metadata": {
        "id": "h6x-i9XZ9u8u",
        "colab_type": "code",
        "outputId": "b19df6d9-2d3e-48ba-e452-f0c04402a43b",
        "colab": {
          "base_uri": "https://localhost:8080/",
          "height": 52
        }
      },
      "source": [
        "H = load_unlabelled2('/content/drive/My Drive/CTW_2019/h_Estimated_CTW_Train.h5')\n",
        "pos = load_unlabelled3('/content/drive/My Drive/CTW_2019/r_Position_CTW_Train.h5')"
      ],
      "execution_count": 5,
      "outputs": [
        {
          "output_type": "stream",
          "text": [
            "<KeysViewHDF5 ['h_Estimated']>\n",
            "<KeysViewHDF5 ['r_Position']>\n"
          ],
          "name": "stdout"
        }
      ]
    },
    {
      "cell_type": "code",
      "metadata": {
        "id": "6Rx-ZcLqCh8Z",
        "colab_type": "code",
        "outputId": "35a30cc8-0e79-4468-a7e4-05801590549a",
        "colab": {
          "base_uri": "https://localhost:8080/",
          "height": 34
        }
      },
      "source": [
        "SNR = load_unlabelled('/content/drive/My Drive/CTW_2019/SNR_CTW_Train.h5')"
      ],
      "execution_count": 6,
      "outputs": [
        {
          "output_type": "stream",
          "text": [
            "<KeysViewHDF5 ['SNR_Est']>\n"
          ],
          "name": "stdout"
        }
      ]
    },
    {
      "cell_type": "code",
      "metadata": {
        "id": "JcYuUgNb-Y27",
        "colab_type": "code",
        "outputId": "f17a8bf5-c4e4-4c7d-c4c8-5385c26be5b3",
        "colab": {
          "base_uri": "https://localhost:8080/",
          "height": 330
        }
      },
      "source": [
        "print(H.shape)\n",
        "print(pos.shape)\n",
        "print(SNR.shape)\n",
        "Y = np.swapaxes(pos, 0,1)\n",
        "print(Y.shape)\n",
        "H1 = np.swapaxes(H,0,3)\n",
        "print(H1.shape)\n",
        "print(H[:,1:10,1,1])\n",
        "print(H1[1,1:10,1,:])"
      ],
      "execution_count": 7,
      "outputs": [
        {
          "output_type": "stream",
          "text": [
            "(2, 924, 16, 17486)\n",
            "(3, 17486)\n",
            "(16, 17486)\n",
            "(17486, 3)\n",
            "(17486, 924, 16, 2)\n",
            "[[0.03866516 0.03544508 0.03482855 0.03706137 0.0372574  0.04047269\n",
            "  0.0408036  0.03858153 0.04033941]\n",
            " [0.0078049  0.00788109 0.00903631 0.00951842 0.00666967 0.01102501\n",
            "  0.01013644 0.01183    0.00960549]]\n",
            "[[0.03866516 0.0078049 ]\n",
            " [0.03544508 0.00788109]\n",
            " [0.03482855 0.00903631]\n",
            " [0.03706137 0.00951842]\n",
            " [0.0372574  0.00666967]\n",
            " [0.04047269 0.01102501]\n",
            " [0.0408036  0.01013644]\n",
            " [0.03858153 0.01183   ]\n",
            " [0.04033941 0.00960549]]\n"
          ],
          "name": "stdout"
        }
      ]
    },
    {
      "cell_type": "code",
      "metadata": {
        "id": "v0C09hFLFVhL",
        "colab_type": "code",
        "colab": {}
      },
      "source": [
        "def create_model():\n",
        "    inp = Input(shape=(2,16,924))\n",
        "    x = Dense(256, activation='relu',activity_regularizer=l1(10e-4))(inp)\n",
        "  #  x = Dense(128, activation='relu')(x)\n",
        "    encoded = Dense(64, activation='relu',activity_regularizer=l1(10e-4))(x)\n",
        "  #  x = Dense(128, activation='relu')(encoded)\n",
        "    x = Dense(256, activation='relu',activity_regularizer=l1(10e-4))(encoded)\n",
        "    decoded = Dense(924, activation='relu')(x)\n",
        "    return Model(inp, encoded), Model(inp, decoded)\n"
      ],
      "execution_count": 0,
      "outputs": []
    },
    {
      "cell_type": "code",
      "metadata": {
        "id": "dnClwhEzMaAS",
        "colab_type": "code",
        "outputId": "0643b5d4-dd3b-4965-9054-f7a6dd550d8e",
        "colab": {
          "base_uri": "https://localhost:8080/",
          "height": 52
        }
      },
      "source": [
        "from sklearn.model_selection import train_test_split\n",
        "X_train,X_test = train_test_split(H1, test_size=0.1, random_state=42, shuffle=True)\n",
        "y_train,y_test = train_test_split(Y, test_size=0.1, random_state=42, shuffle=True)\n",
        "\n",
        "print(X_train.shape,X_test.shape)\n",
        "print(y_train.shape,y_test.shape)\n"
      ],
      "execution_count": 9,
      "outputs": [
        {
          "output_type": "stream",
          "text": [
            "(15737, 924, 16, 2) (1749, 924, 16, 2)\n",
            "(15737, 3) (1749, 3)\n"
          ],
          "name": "stdout"
        }
      ]
    },
    {
      "cell_type": "code",
      "metadata": {
        "id": "4HPRUhcDujSi",
        "colab_type": "code",
        "colab": {
          "base_uri": "https://localhost:8080/",
          "height": 260
        },
        "outputId": "a0aad414-6696-4823-c6ec-9c89993efb3d"
      },
      "source": [
        "X_train = np.swapaxes(X_train,1,3)\n",
        "print(X_train.shape)\n",
        "print(H1[1,1:10,1,:])\n",
        "print(np.swapaxes(H1,1,3)[1,:,1,1:10])"
      ],
      "execution_count": 10,
      "outputs": [
        {
          "output_type": "stream",
          "text": [
            "(15737, 2, 16, 924)\n",
            "[[0.03866516 0.0078049 ]\n",
            " [0.03544508 0.00788109]\n",
            " [0.03482855 0.00903631]\n",
            " [0.03706137 0.00951842]\n",
            " [0.0372574  0.00666967]\n",
            " [0.04047269 0.01102501]\n",
            " [0.0408036  0.01013644]\n",
            " [0.03858153 0.01183   ]\n",
            " [0.04033941 0.00960549]]\n",
            "[[0.03866516 0.03544508 0.03482855 0.03706137 0.0372574  0.04047269\n",
            "  0.0408036  0.03858153 0.04033941]\n",
            " [0.0078049  0.00788109 0.00903631 0.00951842 0.00666967 0.01102501\n",
            "  0.01013644 0.01183    0.00960549]]\n"
          ],
          "name": "stdout"
        }
      ]
    },
    {
      "cell_type": "code",
      "metadata": {
        "id": "jZ_fLyZpZun2",
        "colab_type": "code",
        "colab": {
          "base_uri": "https://localhost:8080/",
          "height": 330
        },
        "outputId": "f1bd14e8-473b-461e-f955-603286d67625"
      },
      "source": [
        "from keras.callbacks import EarlyStopping, ModelCheckpoint\n",
        "from keras.optimizers import Adadelta, Adam, RMSprop\n",
        "\n",
        "\n",
        "H_comp, H_decod = create_model()\n",
        "\n",
        "H_decod.compile(optimizer='Adam', loss = 'mean_squared_error')\n",
        "early_stopping = EarlyStopping(monitor='val_loss', patience = 20)\n",
        "checkpointer = ModelCheckpoint('/content/drive/My Drive/CTW_2019/SimpleAE.h5', verbose=1, save_best_only=True)\n",
        "H_decod.summary()"
      ],
      "execution_count": 30,
      "outputs": [
        {
          "output_type": "stream",
          "text": [
            "Model: \"model_6\"\n",
            "_________________________________________________________________\n",
            "Layer (type)                 Output Shape              Param #   \n",
            "=================================================================\n",
            "input_5 (InputLayer)         (None, 2, 16, 924)        0         \n",
            "_________________________________________________________________\n",
            "dense_5 (Dense)              (None, 2, 16, 256)        236800    \n",
            "_________________________________________________________________\n",
            "dense_6 (Dense)              (None, 2, 16, 64)         16448     \n",
            "_________________________________________________________________\n",
            "dense_7 (Dense)              (None, 2, 16, 256)        16640     \n",
            "_________________________________________________________________\n",
            "dense_8 (Dense)              (None, 2, 16, 924)        237468    \n",
            "=================================================================\n",
            "Total params: 507,356\n",
            "Trainable params: 507,356\n",
            "Non-trainable params: 0\n",
            "_________________________________________________________________\n"
          ],
          "name": "stdout"
        }
      ]
    },
    {
      "cell_type": "code",
      "metadata": {
        "id": "_dWCQ7qtuVEo",
        "colab_type": "code",
        "colab": {}
      },
      "source": [
        "H_decod.fit(X_train, X_train, epochs = 150, verbose=1, batch_size = 32,validation_split=0.1, callbacks = [checkpointer,early_stopping])"
      ],
      "execution_count": 0,
      "outputs": []
    },
    {
      "cell_type": "code",
      "metadata": {
        "id": "mhAwsBLU2YZT",
        "colab_type": "code",
        "colab": {
          "base_uri": "https://localhost:8080/",
          "height": 260
        },
        "outputId": "5b1a3a21-1ec0-462d-f86a-c8455ef0c6c3"
      },
      "source": [
        "model = load_model('/content/drive/My Drive/CTW_2019/SimpleAE.h5')\n",
        "DL_input = Input(model.layers[0].input_shape[1:])\n",
        "DL_model = DL_input\n",
        "for layer in model.layers[1:3]:\n",
        "    DL_model = layer(DL_model)\n",
        "DL_model = Model(inputs=DL_input, outputs=DL_model)\n",
        "DL_model.summary()"
      ],
      "execution_count": 17,
      "outputs": [
        {
          "output_type": "stream",
          "text": [
            "Model: \"model_3\"\n",
            "_________________________________________________________________\n",
            "Layer (type)                 Output Shape              Param #   \n",
            "=================================================================\n",
            "input_3 (InputLayer)         (None, 2, 16, 924)        0         \n",
            "_________________________________________________________________\n",
            "dense_17 (Dense)             (None, 2, 16, 256)        236800    \n",
            "_________________________________________________________________\n",
            "dense_18 (Dense)             (None, 2, 16, 64)         16448     \n",
            "=================================================================\n",
            "Total params: 253,248\n",
            "Trainable params: 253,248\n",
            "Non-trainable params: 0\n",
            "_________________________________________________________________\n"
          ],
          "name": "stdout"
        }
      ]
    },
    {
      "cell_type": "code",
      "metadata": {
        "id": "Ve0sLFtMKjNb",
        "colab_type": "code",
        "colab": {
          "base_uri": "https://localhost:8080/",
          "height": 34
        },
        "outputId": "8e648d4d-99ab-41ac-a674-95f26483e4e9"
      },
      "source": [
        "X_comp = DL_model.predict(X_train)\n",
        "print(X_comp.shape)"
      ],
      "execution_count": 20,
      "outputs": [
        {
          "output_type": "stream",
          "text": [
            "(15737, 2, 16, 64)\n"
          ],
          "name": "stdout"
        }
      ]
    },
    {
      "cell_type": "code",
      "metadata": {
        "id": "oOmiWuMSLRbz",
        "colab_type": "code",
        "colab": {
          "base_uri": "https://localhost:8080/",
          "height": 34
        },
        "outputId": "efdc69f0-f63c-4193-d588-4aac245be012"
      },
      "source": [
        "Xt = model.predict(X_test)\n",
        "print(np.sqrt(np.sum((Xt-X_test)**2)))\n",
        "Xt_comp = DL_model.predict(X_test)"
      ],
      "execution_count": 49,
      "outputs": [
        {
          "output_type": "stream",
          "text": [
            "273.626228119075\n"
          ],
          "name": "stdout"
        }
      ]
    },
    {
      "cell_type": "code",
      "metadata": {
        "id": "6s9B4zv-Mrks",
        "colab_type": "code",
        "colab": {
          "base_uri": "https://localhost:8080/",
          "height": 52
        },
        "outputId": "90d418e9-f33e-4902-937f-6576708c6983"
      },
      "source": [
        "X_comp = np.swapaxes(X_comp, 1,3)\n",
        "Xt = np.swapaxes(Xt,1,3)\n",
        "print(X_comp.shape)\n",
        "print(Xt.shape)"
      ],
      "execution_count": 26,
      "outputs": [
        {
          "output_type": "stream",
          "text": [
            "(15737, 64, 16, 2)\n",
            "(1749, 924, 16, 2)\n"
          ],
          "name": "stdout"
        }
      ]
    },
    {
      "cell_type": "code",
      "metadata": {
        "id": "6B8hYCKrL6Wc",
        "colab_type": "code",
        "colab": {
          "base_uri": "https://localhost:8080/",
          "height": 677
        },
        "outputId": "758348d3-988e-4b4d-bce7-e2a2c2038b2b"
      },
      "source": [
        "def cnn2d():\n",
        "  inp = Input(shape=(64,16,2))\n",
        "  x = Conv2D(16, (3,3), padding=\"same\",activation='relu')(inp)\n",
        "  x = AveragePooling2D(pool_size=(4,1))(x)\n",
        "  x =Dropout(0.25)(x)\n",
        "  x = Conv2D(8, (3,3), padding=\"same\",activation='relu')(x)\n",
        "  x = AveragePooling2D(pool_size=(4,1))(x)\n",
        "  x = Dropout(0.25)(x)\n",
        "  x = Flatten()(x)\n",
        "  x = Dense(128,activation='relu')(x)\n",
        "  x = Dropout(0.2)(x)\n",
        "  x = Dense(64,activation='relu')(x)\n",
        "  x = Dropout(0.2)(x)\n",
        "  x = Dense(32,activation='relu')(x)\n",
        "  x  = Dropout(0.2)(x)\n",
        "  out = Dense(3)(x)\n",
        "\n",
        "  \n",
        "  return Model(inp,out)\n",
        "\n",
        "\n",
        "\n",
        "classify = cnn2d()\n",
        "classify.summary()"
      ],
      "execution_count": 28,
      "outputs": [
        {
          "output_type": "stream",
          "text": [
            "Model: \"model_4\"\n",
            "_________________________________________________________________\n",
            "Layer (type)                 Output Shape              Param #   \n",
            "=================================================================\n",
            "input_4 (InputLayer)         (None, 64, 16, 2)         0         \n",
            "_________________________________________________________________\n",
            "conv2d_1 (Conv2D)            (None, 64, 16, 16)        304       \n",
            "_________________________________________________________________\n",
            "average_pooling2d_1 (Average (None, 16, 16, 16)        0         \n",
            "_________________________________________________________________\n",
            "dropout_1 (Dropout)          (None, 16, 16, 16)        0         \n",
            "_________________________________________________________________\n",
            "conv2d_2 (Conv2D)            (None, 16, 16, 8)         1160      \n",
            "_________________________________________________________________\n",
            "average_pooling2d_2 (Average (None, 4, 16, 8)          0         \n",
            "_________________________________________________________________\n",
            "dropout_2 (Dropout)          (None, 4, 16, 8)          0         \n",
            "_________________________________________________________________\n",
            "flatten_1 (Flatten)          (None, 512)               0         \n",
            "_________________________________________________________________\n",
            "dense_1 (Dense)              (None, 128)               65664     \n",
            "_________________________________________________________________\n",
            "dropout_3 (Dropout)          (None, 128)               0         \n",
            "_________________________________________________________________\n",
            "dense_2 (Dense)              (None, 64)                8256      \n",
            "_________________________________________________________________\n",
            "dropout_4 (Dropout)          (None, 64)                0         \n",
            "_________________________________________________________________\n",
            "dense_3 (Dense)              (None, 32)                2080      \n",
            "_________________________________________________________________\n",
            "dropout_5 (Dropout)          (None, 32)                0         \n",
            "_________________________________________________________________\n",
            "dense_4 (Dense)              (None, 3)                 99        \n",
            "=================================================================\n",
            "Total params: 77,563\n",
            "Trainable params: 77,563\n",
            "Non-trainable params: 0\n",
            "_________________________________________________________________\n"
          ],
          "name": "stdout"
        }
      ]
    },
    {
      "cell_type": "code",
      "metadata": {
        "id": "0MLORPzWNm_8",
        "colab_type": "code",
        "colab": {}
      },
      "source": [
        "opt = RMSprop(learning_rate=0.001, decay=1e-6)\n",
        "classify.compile(loss='mean_squared_error',optimizer=opt)\n",
        "early_stopping = EarlyStopping(monitor='val_loss', patience = 20)\n",
        "checkpointer = ModelCheckpoint('/content/drive/My Drive/CTW_2019/SimpleAE_pred.h5', verbose=1, save_best_only=True)\n",
        "\n",
        "classify.fit(X_comp, y_train,\n",
        "              batch_size=32,\n",
        "              epochs=1000,\n",
        "              validation_split=0.12,\n",
        "              shuffle=True, callbacks=[early_stopping, checkpointer])\n",
        "\n"
      ],
      "execution_count": 0,
      "outputs": []
    },
    {
      "cell_type": "code",
      "metadata": {
        "id": "SUGfenE8RMXE",
        "colab_type": "code",
        "colab": {}
      },
      "source": [
        "def rmse(p1, p2):\n",
        "  return np.sqrt(np.sum((p1-p2)**2, axis = 1))"
      ],
      "execution_count": 0,
      "outputs": []
    },
    {
      "cell_type": "code",
      "metadata": {
        "id": "jcxCTy92RT2Q",
        "colab_type": "code",
        "colab": {
          "base_uri": "https://localhost:8080/",
          "height": 652
        },
        "outputId": "3574185f-0bc6-452f-db19-c554b6b324e2"
      },
      "source": [
        "m2 = load_model('/content/drive/My Drive/CTW_2019/SimpleAE_pred.h5')\n",
        "tt = m2.predict(np.swapaxes(Xt_comp,1,3))\n",
        "#print(tt)\n",
        "#print(y_test)\n",
        "gg  = (rmse(tt,y_test))\n",
        "\n",
        "\n",
        "plt.hist(gg, bins=20)\n",
        "plt.show()\n",
        "plt.hist(np.log(gg), bins=20)"
      ],
      "execution_count": 51,
      "outputs": [
        {
          "output_type": "display_data",
          "data": {
            "image/png": "[encoded data removed]",
            "text/plain": [
              "<Figure size 432x288 with 1 Axes>"
            ]
          },
          "metadata": {
            "tags": [],
            "needs_background": "light"
          }
        },
        {
          "output_type": "execute_result",
          "data": {
            "text/plain": [
              "(array([  1.,   0.,   0.,   0.,   3.,   3.,   1.,   7.,   6.,  19.,  19.,\n",
              "         25.,  87., 141., 173., 267., 254., 259., 246., 238.]),\n",
              " array([-3.90588658, -3.66605947, -3.42623235, -3.18640523, -2.94657811,\n",
              "        -2.70675099, -2.46692388, -2.22709676, -1.98726964, -1.74744252,\n",
              "        -1.50761541, -1.26778829, -1.02796117, -0.78813405, -0.54830694,\n",
              "        -0.30847982, -0.0686527 ,  0.17117442,  0.41100154,  0.65082865,\n",
              "         0.89065577]),\n",
              " <a list of 20 Patch objects>)"
            ]
          },
          "metadata": {
            "tags": []
          },
          "execution_count": 51
        },
        {
          "output_type": "display_data",
          "data": {
            "image/png": "[encoded data removed]",
            "text/plain": [
              "<Figure size 432x288 with 1 Axes>"
            ]
          },
          "metadata": {
            "tags": [],
            "needs_background": "light"
          }
        }
      ]
    }
  ]
}