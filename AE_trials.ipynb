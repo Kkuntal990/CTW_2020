{
  "nbformat": 4,
  "nbformat_minor": 0,
  "metadata": {
    "colab": {
      "name": "AE_trials.ipynb",
      "provenance": [],
      "authorship_tag": "ABX9TyMY7qnZcOtP+3AS82o8v1X9",
      "include_colab_link": true
    },
    "kernelspec": {
      "name": "python3",
      "display_name": "Python 3"
    },
    "accelerator": "GPU"
  },
  "cells": [
    {
      "cell_type": "markdown",
      "metadata": {
        "id": "view-in-github",
        "colab_type": "text"
      },
      "source": [
        "<a href=\"https://colab.research.google.com/github/Kkuntal990/CTW_2020/blob/master/AE_trials.ipynb\" target=\"_parent\"><img src=\"https://colab.research.google.com/assets/colab-badge.svg\" alt=\"Open In Colab\"/></a>"
      ]
    },
    {
      "cell_type": "code",
      "metadata": {
        "id": "COUxoxU29QT1",
        "colab_type": "code",
        "colab": {}
      },
      "source": [
        "import numpy as np # linear algebra\n",
        "import tensorflow as tf\n",
        "import numpy as np\n",
        "import os\n",
        "import h5py\n",
        "import pandas as pd\n",
        "import time\n",
        "import matplotlib.pyplot as plt\n"
      ],
      "execution_count": 0,
      "outputs": []
    },
    {
      "cell_type": "code",
      "metadata": {
        "id": "RHdDHtsr9YWL",
        "colab_type": "code",
        "colab": {}
      },
      "source": [
        "from keras.models import Sequential, Model, load_model\n",
        "from keras.layers import Dense, LeakyReLU, Input, Conv2D, AveragePooling2D, MaxPooling2D, Dropout, Flatten\n",
        "from keras.regularizers import l1,l2"
      ],
      "execution_count": 0,
      "outputs": []
    },
    {
      "cell_type": "code",
      "metadata": {
        "id": "eQN4C8Bx9bfK",
        "colab_type": "code",
        "outputId": "10a312fc-4173-4017-e828-91e2e01cbdd9",
        "colab": {
          "base_uri": "https://localhost:8080/",
          "height": 34
        }
      },
      "source": [
        "from google.colab import drive\n",
        "drive.mount('/content/drive', force_remount=True)"
      ],
      "execution_count": 42,
      "outputs": [
        {
          "output_type": "stream",
          "text": [
            "Mounted at /content/drive\n"
          ],
          "name": "stdout"
        }
      ]
    },
    {
      "cell_type": "code",
      "metadata": {
        "id": "YE4oY7zQ9b5W",
        "colab_type": "code",
        "colab": {}
      },
      "source": [
        "\n",
        "def load_unlabelled2(path):\n",
        "    f = h5py.File(path, 'r')\n",
        "    '''\n",
        "    H_Re = f['H_Re'][:] #shape (sample size, 56, 924, 5)\n",
        "    H_Im = f['H_Im'][:] #shape (sample size, 56, 924, 5)\n",
        "    SNR  = f['SNR'][:]  #shape (sample size, 56, 5)\n",
        "    print(SNR.shape)\n",
        "    '''\n",
        "  \n",
        "    print(f.keys())\n",
        "    H = f['h_Estimated'][:]\n",
        "    f.close()\n",
        "    return H\n",
        "\n",
        "\n",
        "def load_unlabelled3(path):\n",
        "    f = h5py.File(path, 'r')\n",
        "    '''\n",
        "    H_Re = f['H_Re'][:] #shape (sample size, 56, 924, 5)\n",
        "    H_Im = f['H_Im'][:] #shape (sample size, 56, 924, 5)\n",
        "    SNR  = f['SNR'][:]  #shape (sample size, 56, 5)\n",
        "    print(SNR.shape)\n",
        "    '''\n",
        "  \n",
        "    print(f.keys())\n",
        "    H = f['r_Position'][:]\n",
        "    f.close()\n",
        "    return H\n",
        "\n",
        "\n",
        "def load_unlabelled(path):\n",
        "    f = h5py.File(path, 'r')\n",
        "    '''\n",
        "    H_Re = f['H_Re'][:] #shape (sample size, 56, 924, 5)\n",
        "    H_Im = f['H_Im'][:] #shape (sample size, 56, 924, 5)\n",
        "    SNR  = f['SNR'][:]  #shape (sample size, 56, 5)\n",
        "    print(SNR.shape)\n",
        "    '''\n",
        "  \n",
        "    print(f.keys())\n",
        "    H = f['SNR_Est'][:]\n",
        "    f.close()\n",
        "    return H"
      ],
      "execution_count": 0,
      "outputs": []
    },
    {
      "cell_type": "code",
      "metadata": {
        "id": "h6x-i9XZ9u8u",
        "colab_type": "code",
        "colab": {}
      },
      "source": [
        "H = load_unlabelled2('/content/drive/My Drive/CTW_2019/h_Estimated_CTW_Train.h5')\n",
        "pos = load_unlabelled3('/content/drive/My Drive/CTW_2019/r_Position_CTW_Train.h5')"
      ],
      "execution_count": 0,
      "outputs": []
    },
    {
      "cell_type": "code",
      "metadata": {
        "id": "6Rx-ZcLqCh8Z",
        "colab_type": "code",
        "colab": {}
      },
      "source": [
        "SNR = load_unlabelled('/content/drive/My Drive/CTW_2019/SNR_CTW_Train.h5')"
      ],
      "execution_count": 0,
      "outputs": []
    },
    {
      "cell_type": "code",
      "metadata": {
        "id": "JcYuUgNb-Y27",
        "colab_type": "code",
        "colab": {}
      },
      "source": [
        "print(H.shape)\n",
        "print(pos.shape)\n",
        "print(SNR.shape)\n",
        "Y = np.swapaxes(pos, 0,1)\n",
        "print(Y.shape)\n",
        "H1 = np.swapaxes(H,0,3)\n",
        "print(H1.shape)\n",
        "print(H[:,1:10,1,1])\n",
        "print(H1[1,1:10,1,:])"
      ],
      "execution_count": 0,
      "outputs": []
    },
    {
      "cell_type": "code",
      "metadata": {
        "id": "v0C09hFLFVhL",
        "colab_type": "code",
        "colab": {}
      },
      "source": [
        "def create_model():\n",
        "    inp = Input(shape=(2,16,924))\n",
        "    x = Dense(256, activation='relu',activity_regularizer=l1(10e-4))(inp)\n",
        "  #  x = Dense(128, activation='relu')(x)\n",
        "    encoded = Dense(64, activation='relu',activity_regularizer=l1(10e-4))(x)\n",
        "  #  x = Dense(128, activation='relu')(encoded)\n",
        "    x = Dense(256, activation='relu',activity_regularizer=l1(10e-4))(encoded)\n",
        "    decoded = Dense(924, activation='relu')(x)\n",
        "    return Model(inp, encoded), Model(inp, decoded)\n"
      ],
      "execution_count": 0,
      "outputs": []
    },
    {
      "cell_type": "code",
      "metadata": {
        "id": "dnClwhEzMaAS",
        "colab_type": "code",
        "colab": {}
      },
      "source": [
        "from sklearn.model_selection import train_test_split\n",
        "X_train,X_test = train_test_split(H1, test_size=0.1, random_state=42, shuffle=True)\n",
        "y_train,y_test = train_test_split(Y, test_size=0.1, random_state=42, shuffle=True)\n",
        "\n",
        "print(X_train.shape,X_test.shape)\n",
        "print(y_train.shape,y_test.shape)\n"
      ],
      "execution_count": 0,
      "outputs": []
    },
    {
      "cell_type": "code",
      "metadata": {
        "id": "4HPRUhcDujSi",
        "colab_type": "code",
        "colab": {}
      },
      "source": [
        "X_train = np.swapaxes(X_train,1,3)\n",
        "print(X_train.shape)\n",
        "print(H1[1,1:10,1,:])\n",
        "print(np.swapaxes(H1,1,3)[1,:,1,1:10])"
      ],
      "execution_count": 0,
      "outputs": []
    },
    {
      "cell_type": "code",
      "metadata": {
        "id": "jZ_fLyZpZun2",
        "colab_type": "code",
        "colab": {
          "base_uri": "https://localhost:8080/",
          "height": 330
        },
        "outputId": "972834d1-5c80-41c1-cf9f-84729962d358"
      },
      "source": [
        "from keras.callbacks import EarlyStopping, ModelCheckpoint\n",
        "from keras.optimizers import Adadelta, Adam, RMSprop\n",
        "\n",
        "\n",
        "H_comp, H_decod = create_model()\n",
        "\n",
        "H_decod.compile(optimizer='Adam', loss = 'mean_squared_error')\n",
        "early_stopping = EarlyStopping(monitor='val_loss', patience = 20)\n",
        "checkpointer = ModelCheckpoint('/content/drive/My Drive/CTW_2019/SimpleAE.h5', verbose=1, save_best_only=True)\n",
        "H_decod.summary()"
      ],
      "execution_count": 38,
      "outputs": [
        {
          "output_type": "stream",
          "text": [
            "Model: \"model_8\"\n",
            "_________________________________________________________________\n",
            "Layer (type)                 Output Shape              Param #   \n",
            "=================================================================\n",
            "input_8 (InputLayer)         (None, 2, 16, 924)        0         \n",
            "_________________________________________________________________\n",
            "dense_17 (Dense)             (None, 2, 16, 256)        236800    \n",
            "_________________________________________________________________\n",
            "dense_18 (Dense)             (None, 2, 16, 64)         16448     \n",
            "_________________________________________________________________\n",
            "dense_19 (Dense)             (None, 2, 16, 256)        16640     \n",
            "_________________________________________________________________\n",
            "dense_20 (Dense)             (None, 2, 16, 924)        237468    \n",
            "=================================================================\n",
            "Total params: 507,356\n",
            "Trainable params: 507,356\n",
            "Non-trainable params: 0\n",
            "_________________________________________________________________\n"
          ],
          "name": "stdout"
        }
      ]
    },
    {
      "cell_type": "code",
      "metadata": {
        "id": "_dWCQ7qtuVEo",
        "colab_type": "code",
        "colab": {
          "base_uri": "https://localhost:8080/",
          "height": 1000
        },
        "outputId": "c17d6ffb-f181-4061-e716-246aa8a37610"
      },
      "source": [
        "H_decod.fit(X_train, X_train, epochs = 150, verbose=1, batch_size = 32,validation_split=0.1, callbacks = [checkpointer,early_stopping])"
      ],
      "execution_count": 39,
      "outputs": [
        {
          "output_type": "stream",
          "text": [
            "Train on 14163 samples, validate on 1574 samples\n",
            "Epoch 1/150\n",
            "14163/14163 [==============================] - 6s 454us/step - loss: 0.0704 - val_loss: 0.0040\n",
            "\n",
            "Epoch 00001: val_loss improved from inf to 0.00405, saving model to /content/drive/My Drive/CTW_2019/SimpleAE.h5\n",
            "Epoch 2/150\n",
            "14163/14163 [==============================] - 6s 428us/step - loss: 0.0036 - val_loss: 0.0035\n",
            "\n",
            "Epoch 00002: val_loss improved from 0.00405 to 0.00346, saving model to /content/drive/My Drive/CTW_2019/SimpleAE.h5\n",
            "Epoch 3/150\n",
            "14163/14163 [==============================] - 6s 439us/step - loss: 0.0031 - val_loss: 0.0029\n",
            "\n",
            "Epoch 00003: val_loss improved from 0.00346 to 0.00294, saving model to /content/drive/My Drive/CTW_2019/SimpleAE.h5\n",
            "Epoch 4/150\n",
            "14163/14163 [==============================] - 6s 436us/step - loss: 0.0027 - val_loss: 0.0026\n",
            "\n",
            "Epoch 00004: val_loss improved from 0.00294 to 0.00262, saving model to /content/drive/My Drive/CTW_2019/SimpleAE.h5\n",
            "Epoch 5/150\n",
            "14163/14163 [==============================] - 6s 438us/step - loss: 0.0024 - val_loss: 0.0024\n",
            "\n",
            "Epoch 00005: val_loss improved from 0.00262 to 0.00245, saving model to /content/drive/My Drive/CTW_2019/SimpleAE.h5\n",
            "Epoch 6/150\n",
            "14163/14163 [==============================] - 6s 440us/step - loss: 0.0022 - val_loss: 0.0022\n",
            "\n",
            "Epoch 00006: val_loss improved from 0.00245 to 0.00216, saving model to /content/drive/My Drive/CTW_2019/SimpleAE.h5\n",
            "Epoch 7/150\n",
            "14163/14163 [==============================] - 6s 440us/step - loss: 0.0021 - val_loss: 0.0021\n",
            "\n",
            "Epoch 00007: val_loss improved from 0.00216 to 0.00206, saving model to /content/drive/My Drive/CTW_2019/SimpleAE.h5\n",
            "Epoch 8/150\n",
            "14163/14163 [==============================] - 6s 440us/step - loss: 0.0020 - val_loss: 0.0020\n",
            "\n",
            "Epoch 00008: val_loss improved from 0.00206 to 0.00204, saving model to /content/drive/My Drive/CTW_2019/SimpleAE.h5\n",
            "Epoch 9/150\n",
            "14163/14163 [==============================] - 6s 440us/step - loss: 0.0019 - val_loss: 0.0018\n",
            "\n",
            "Epoch 00009: val_loss improved from 0.00204 to 0.00179, saving model to /content/drive/My Drive/CTW_2019/SimpleAE.h5\n",
            "Epoch 10/150\n",
            "14163/14163 [==============================] - 6s 441us/step - loss: 0.0021 - val_loss: 0.0026\n",
            "\n",
            "Epoch 00010: val_loss did not improve from 0.00179\n",
            "Epoch 11/150\n",
            "14163/14163 [==============================] - 6s 443us/step - loss: 0.0018 - val_loss: 0.0023\n",
            "\n",
            "Epoch 00011: val_loss did not improve from 0.00179\n",
            "Epoch 12/150\n",
            "14163/14163 [==============================] - 6s 447us/step - loss: 0.0018 - val_loss: 0.0034\n",
            "\n",
            "Epoch 00012: val_loss did not improve from 0.00179\n",
            "Epoch 13/150\n",
            "14163/14163 [==============================] - 6s 440us/step - loss: 0.0017 - val_loss: 0.0015\n",
            "\n",
            "Epoch 00013: val_loss improved from 0.00179 to 0.00153, saving model to /content/drive/My Drive/CTW_2019/SimpleAE.h5\n",
            "Epoch 14/150\n",
            "14163/14163 [==============================] - 6s 436us/step - loss: 0.0016 - val_loss: 0.0015\n",
            "\n",
            "Epoch 00014: val_loss improved from 0.00153 to 0.00151, saving model to /content/drive/My Drive/CTW_2019/SimpleAE.h5\n",
            "Epoch 15/150\n",
            "14163/14163 [==============================] - 6s 438us/step - loss: 0.0015 - val_loss: 0.0022\n",
            "\n",
            "Epoch 00015: val_loss did not improve from 0.00151\n",
            "Epoch 16/150\n",
            "14163/14163 [==============================] - 6s 440us/step - loss: 0.0015 - val_loss: 0.0015\n",
            "\n",
            "Epoch 00016: val_loss improved from 0.00151 to 0.00150, saving model to /content/drive/My Drive/CTW_2019/SimpleAE.h5\n",
            "Epoch 17/150\n",
            "14163/14163 [==============================] - 6s 444us/step - loss: 0.0015 - val_loss: 0.0015\n",
            "\n",
            "Epoch 00017: val_loss improved from 0.00150 to 0.00150, saving model to /content/drive/My Drive/CTW_2019/SimpleAE.h5\n",
            "Epoch 18/150\n",
            "14163/14163 [==============================] - 6s 440us/step - loss: 0.0015 - val_loss: 0.0015\n",
            "\n",
            "Epoch 00018: val_loss did not improve from 0.00150\n",
            "Epoch 19/150\n",
            "14163/14163 [==============================] - 6s 432us/step - loss: 0.0015 - val_loss: 0.0015\n",
            "\n",
            "Epoch 00019: val_loss did not improve from 0.00150\n",
            "Epoch 20/150\n",
            "14163/14163 [==============================] - 6s 440us/step - loss: 0.0015 - val_loss: 0.0015\n",
            "\n",
            "Epoch 00020: val_loss did not improve from 0.00150\n",
            "Epoch 21/150\n",
            "14163/14163 [==============================] - 6s 438us/step - loss: 0.0015 - val_loss: 0.0015\n",
            "\n",
            "Epoch 00021: val_loss did not improve from 0.00150\n",
            "Epoch 22/150\n",
            "14163/14163 [==============================] - 6s 443us/step - loss: 0.0015 - val_loss: 0.0015\n",
            "\n",
            "Epoch 00022: val_loss did not improve from 0.00150\n",
            "Epoch 23/150\n",
            "14163/14163 [==============================] - 6s 438us/step - loss: 0.0015 - val_loss: 0.0015\n",
            "\n",
            "Epoch 00023: val_loss did not improve from 0.00150\n",
            "Epoch 24/150\n",
            "14163/14163 [==============================] - 6s 440us/step - loss: 0.0015 - val_loss: 0.0015\n",
            "\n",
            "Epoch 00024: val_loss did not improve from 0.00150\n",
            "Epoch 25/150\n",
            "14163/14163 [==============================] - 6s 442us/step - loss: 0.0015 - val_loss: 0.0015\n",
            "\n",
            "Epoch 00025: val_loss did not improve from 0.00150\n",
            "Epoch 26/150\n",
            "14163/14163 [==============================] - 6s 436us/step - loss: 0.0015 - val_loss: 0.0015\n",
            "\n",
            "Epoch 00026: val_loss did not improve from 0.00150\n",
            "Epoch 27/150\n",
            "14163/14163 [==============================] - 6s 438us/step - loss: 0.0015 - val_loss: 0.0015\n",
            "\n",
            "Epoch 00027: val_loss did not improve from 0.00150\n",
            "Epoch 28/150\n",
            "14163/14163 [==============================] - 6s 436us/step - loss: 0.0015 - val_loss: 0.0015\n",
            "\n",
            "Epoch 00028: val_loss did not improve from 0.00150\n",
            "Epoch 29/150\n",
            "14163/14163 [==============================] - 6s 436us/step - loss: 0.0015 - val_loss: 0.0015\n",
            "\n",
            "Epoch 00029: val_loss did not improve from 0.00150\n",
            "Epoch 30/150\n",
            "14163/14163 [==============================] - 6s 435us/step - loss: 0.0015 - val_loss: 0.0015\n",
            "\n",
            "Epoch 00030: val_loss did not improve from 0.00150\n",
            "Epoch 31/150\n",
            "14163/14163 [==============================] - 6s 443us/step - loss: 0.0015 - val_loss: 0.0015\n",
            "\n",
            "Epoch 00031: val_loss did not improve from 0.00150\n",
            "Epoch 32/150\n",
            "14163/14163 [==============================] - 6s 435us/step - loss: 0.0015 - val_loss: 0.0015\n",
            "\n",
            "Epoch 00032: val_loss did not improve from 0.00150\n",
            "Epoch 33/150\n",
            "14163/14163 [==============================] - 6s 435us/step - loss: 0.0015 - val_loss: 0.0015\n",
            "\n",
            "Epoch 00033: val_loss did not improve from 0.00150\n",
            "Epoch 34/150\n",
            "14163/14163 [==============================] - 6s 436us/step - loss: 0.0015 - val_loss: 0.0015\n",
            "\n",
            "Epoch 00034: val_loss did not improve from 0.00150\n",
            "Epoch 35/150\n",
            "14163/14163 [==============================] - 6s 431us/step - loss: 0.0015 - val_loss: 0.0015\n",
            "\n",
            "Epoch 00035: val_loss did not improve from 0.00150\n",
            "Epoch 36/150\n",
            "14163/14163 [==============================] - 6s 435us/step - loss: 0.0015 - val_loss: 0.0015\n",
            "\n",
            "Epoch 00036: val_loss did not improve from 0.00150\n",
            "Epoch 37/150\n",
            "14163/14163 [==============================] - 6s 438us/step - loss: 0.0015 - val_loss: 0.0015\n",
            "\n",
            "Epoch 00037: val_loss did not improve from 0.00150\n"
          ],
          "name": "stdout"
        },
        {
          "output_type": "execute_result",
          "data": {
            "text/plain": [
              "<keras.callbacks.callbacks.History at 0x7f50485b1470>"
            ]
          },
          "metadata": {
            "tags": []
          },
          "execution_count": 39
        }
      ]
    },
    {
      "cell_type": "code",
      "metadata": {
        "id": "mhAwsBLU2YZT",
        "colab_type": "code",
        "colab": {}
      },
      "source": [
        ""
      ],
      "execution_count": 0,
      "outputs": []
    }
  ]
}